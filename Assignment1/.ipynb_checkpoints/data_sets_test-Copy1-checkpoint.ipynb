{
 "cells": [
  {
   "cell_type": "markdown",
   "id": "1688f478-e206-4c10-80fe-c382eb75a74a",
   "metadata": {},
   "source": [
    "## Autmated Machinea Learning - Assigment 1 "
   ]
  },
  {
   "cell_type": "code",
   "execution_count": 289,
   "id": "ff457cf4-46b4-44c0-ab6a-0ecd37e1c313",
   "metadata": {},
   "outputs": [],
   "source": [
    "import ConfigSpace\n",
    "import numpy as np\n",
    "import sklearn.datasets\n",
    "import sklearn.model_selection\n",
    "import sklearn.svm\n",
    "import typing\n",
    "import unittest\n",
    "from sklearn.ensemble import AdaBoostClassifier\n",
    "from sklearn.model_selection import GridSearchCV\n",
    "from sklearn.model_selection import RandomizedSearchCV\n",
    "from sklearn.model_selection import PredefinedSplit\n",
    "\n",
    "import matplotlib.pyplot as plt\n",
    "\n",
    "from assignment import SequentialModelBasedOptimization\n",
    "import warnings\n",
    "warnings.filterwarnings('ignore')\n",
    "from skopt.plots import plot_evaluations"
   ]
  },
  {
   "cell_type": "markdown",
   "id": "0601cfb6-cf1d-42aa-a3b9-68bca41e5432",
   "metadata": {},
   "source": [
    "Defining the 3d ploting fuction - this fuction plots the results as a heat map from the data, so that we can see how the algorithms perform"
   ]
  },
  {
   "cell_type": "code",
   "execution_count": 290,
   "id": "ec635ab4-fb8f-4a43-9fe9-904284ff6247",
   "metadata": {},
   "outputs": [],
   "source": [
    "def plot_3d(x,y,z,title, x_label, y_label):\n",
    "    fig, ax = plt.subplots()\n",
    "\n",
    "    # Plotting all evaluations:\n",
    "    ax.plot(x, y, \"ko\")#, ms=1)\n",
    "    # Create a contour plot\n",
    "    cntr = ax.tricontourf(x,  y, z, levels=12, cmap=\"RdBu_r\")\n",
    "    # Adjusting the colorbar\n",
    "    fig.colorbar(cntr, ax=ax, label=\"accuracy\")\n",
    "    # Adjusting the axis limits\n",
    "    ax.set(\n",
    "        xlim=(min(x), max(x)),\n",
    "        ylim=(min(y), max(y)),\n",
    "        xlabel=x_label,\n",
    "        ylabel=y_label,\n",
    "    )\n",
    "    ax.set_title(title)"
   ]
  },
  {
   "cell_type": "markdown",
   "id": "80c2fc0f-e350-4ba6-88fd-d89442448d3e",
   "metadata": {},
   "source": [
    "The datasets are pretty small acutally, maybe that's why it's a problem to evaluate this models"
   ]
  },
  {
   "cell_type": "markdown",
   "id": "4a26dafd-0c8c-4c3f-a1af-d4391c0d7cad",
   "metadata": {},
   "source": [
    "Reading the data of the first Data set - Electricity - "
   ]
  },
  {
   "cell_type": "code",
   "execution_count": 291,
   "id": "cce2fd77-b773-455b-becb-e88d31a42e55",
   "metadata": {},
   "outputs": [],
   "source": [
    "data = sklearn.datasets.fetch_openml(name='electricity')#, version=1)\n",
    "X_train, X_valid, y_train, y_valid = sklearn.model_selection.train_test_split(\n",
    "            data.data, data.target, test_size=0.33, random_state=1)"
   ]
  },
  {
   "cell_type": "markdown",
   "id": "33ebcd2c-1c29-45ec-9dc0-9bf389357ec6",
   "metadata": {},
   "source": [
    "Preperation of the sets for the GridSearch and RandomSearch. The reason behind this implementantion is that we want to have the results for every model that GridSearch and RandomSearch tests, as in the base implementation of those algorithms sklearn does not provide a way to either get all of the models created or test them on the other set, we use PredefinedSplit to have the data split into train and valid set as it is determined by the model_selection.train_test_split()\n",
    "\n",
    "This approach has some issues, as the GridSearch will also learn on the test after the first split. We use the split0_test_score as a measure to avoid the situation testing a model on a valid set, when the model had already seen that dataset"
   ]
  },
  {
   "cell_type": "code",
   "execution_count": 292,
   "id": "7b6c3962-608f-4428-8f2c-11ce7f7cda8b",
   "metadata": {},
   "outputs": [],
   "source": [
    "tmp_idx = np.ones(len(X_train)+len(X_valid)-1)*-1\n",
    "tmp_idx[X_valid.index] = 0"
   ]
  },
  {
   "cell_type": "code",
   "execution_count": 294,
   "id": "b43beff6-c050-495b-a9e1-0ea2dbba3511",
   "metadata": {},
   "outputs": [],
   "source": [
    "ps = PredefinedSplit(tmp_idx)"
   ]
  },
  {
   "cell_type": "code",
   "execution_count": 295,
   "id": "5cef5150-13e6-492f-8b40-49c697cfc5b2",
   "metadata": {},
   "outputs": [
    {
     "data": {
      "text/plain": [
       "1"
      ]
     },
     "execution_count": 295,
     "metadata": {},
     "output_type": "execute_result"
    }
   ],
   "source": [
    "ps.get_n_splits()"
   ]
  },
  {
   "cell_type": "markdown",
   "id": "5100e8b9-f2b1-4b00-acea-4f7526644493",
   "metadata": {},
   "source": [
    "## SVM optimalization \n",
    "\n",
    "Here is the implementation of the SVM optimization taken directly from the test file that we got for the assignment.\n",
    "\n",
    "We made some changes to the values of the SMBO parameters such as the number of initial configurations, or the intervals in the C and gamma parameters. Conclusions from those experiments are written in the report."
   ]
  },
  {
   "cell_type": "code",
   "execution_count": 302,
   "id": "d6ac7b9b-82db-428f-bd89-9c343575caea",
   "metadata": {
    "collapsed": true,
    "jupyter": {
     "outputs_hidden": true
    }
   },
   "outputs": [
    {
     "name": "stdout",
     "output_type": "stream",
     "text": [
      "iteration 0/32\n",
      "current perforance: 0.725874\n",
      "iteration 1/32\n",
      "current perforance: 0.706079\n",
      "iteration 2/32\n",
      "current perforance: 0.661807\n",
      "iteration 3/32\n",
      "current perforance: 0.740587\n",
      "iteration 4/32\n",
      "current perforance: 0.750752\n",
      "iteration 5/32\n",
      "current perforance: 0.758042\n",
      "iteration 6/32\n",
      "current perforance: 0.755099\n",
      "iteration 7/32\n",
      "current perforance: 0.767940\n",
      "iteration 8/32\n",
      "current perforance: 0.764261\n",
      "iteration 9/32\n",
      "current perforance: 0.771484\n",
      "iteration 10/32\n",
      "current perforance: 0.754163\n",
      "iteration 11/32\n",
      "current perforance: 0.764930\n",
      "iteration 12/32\n",
      "current perforance: 0.750953\n",
      "iteration 13/32\n",
      "current perforance: 0.747342\n",
      "iteration 14/32\n",
      "current perforance: 0.736240\n",
      "iteration 15/32\n",
      "current perforance: 0.778238\n",
      "iteration 16/32\n",
      "current perforance: 0.779910\n",
      "iteration 17/32\n",
      "current perforance: 0.781181\n",
      "iteration 18/32\n",
      "current perforance: 0.780512\n",
      "iteration 19/32\n",
      "current perforance: 0.776567\n",
      "iteration 20/32\n",
      "current perforance: 0.779910\n",
      "iteration 21/32\n",
      "current perforance: 0.787401\n",
      "iteration 22/32\n",
      "current perforance: 0.787401\n",
      "iteration 23/32\n",
      "current perforance: 0.787401\n",
      "iteration 24/32\n",
      "current perforance: 0.787401\n",
      "iteration 25/32\n",
      "current perforance: 0.787401\n",
      "iteration 26/32\n",
      "current perforance: 0.787401\n",
      "iteration 27/32\n",
      "current perforance: 0.787401\n",
      "iteration 28/32\n",
      "current perforance: 0.787401\n",
      "iteration 29/32\n",
      "current perforance: 0.787401\n",
      "iteration 30/32\n",
      "current perforance: 0.787401\n",
      "iteration 31/32\n",
      "current perforance: 0.787401\n",
      "CPU times: total: 35min 30s\n",
      "Wall time: 56min\n"
     ]
    }
   ],
   "source": [
    "%%time\n",
    "def optimizee(gamma, C):\n",
    "            clf = sklearn.svm.SVC()\n",
    "            clf.set_params(kernel='rbf', gamma=gamma, C=C)\n",
    "            clf.fit(X_train, y_train)\n",
    "            return sklearn.metrics.accuracy_score(y_valid, clf.predict(X_valid))\n",
    "def sample_configurations(n_configurations):\n",
    "            # function uses the ConfigSpace package, as developed at Freiburg University.\n",
    "            # most of this functionality can also be achieved by the scipy package\n",
    "            # same hyperparameter configuration as in scikit-learn\n",
    "            cs = ConfigSpace.ConfigurationSpace('sklearn.svm.SVC', 1)\n",
    "\n",
    "            C = ConfigSpace.UniformFloatHyperparameter(\n",
    "                name='C', lower=0.000125, upper=1000, log=True, default_value=4.0)\n",
    "    \n",
    "            gamma = ConfigSpace.UniformFloatHyperparameter(\n",
    "                name='gamma', lower=3.0517578125e-04, upper=9, log=True, default_value=0.01)\n",
    "    \n",
    "            cs.add_hyperparameters([C, gamma])\n",
    "\n",
    "            return np.array([(configuration['gamma'],\n",
    "                              configuration['C'])\n",
    "                            for configuration in cs.sample_configuration(n_configurations)])\n",
    "\n",
    "def sample_initial_configurations(n: int) -> typing.List[typing.Tuple[np.array, float]]:\n",
    "            configs = sample_configurations(n)\n",
    "            return [((gamma, C), optimizee(gamma, C)) for gamma, C in configs]\n",
    "\n",
    "smbo = SequentialModelBasedOptimization()\n",
    "smbo.initialize(sample_initial_configurations(15))\n",
    "\n",
    "\n",
    "for idx in range(32):\n",
    "            print('iteration %d/32' % idx)\n",
    "            smbo.fit_model()\n",
    "            theta_new = smbo.select_configuration(sample_configurations(1024))\n",
    "            performance = optimizee(theta_new[0], theta_new[1])\n",
    "            smbo.update_runs((theta_new, performance))\n",
    "            print('current perforance: %f' % performance)\n"
   ]
  },
  {
   "cell_type": "code",
   "execution_count": 298,
   "id": "7bbb4628-c968-461a-8a48-881b0c835b9c",
   "metadata": {},
   "outputs": [
    {
     "name": "stdout",
     "output_type": "stream",
     "text": [
      "CPU times: total: 27.2 s\n",
      "Wall time: 45.6 s\n"
     ]
    },
    {
     "data": {
      "text/html": [
       "<style>#sk-container-id-40 {color: black;}#sk-container-id-40 pre{padding: 0;}#sk-container-id-40 div.sk-toggleable {background-color: white;}#sk-container-id-40 label.sk-toggleable__label {cursor: pointer;display: block;width: 100%;margin-bottom: 0;padding: 0.3em;box-sizing: border-box;text-align: center;}#sk-container-id-40 label.sk-toggleable__label-arrow:before {content: \"▸\";float: left;margin-right: 0.25em;color: #696969;}#sk-container-id-40 label.sk-toggleable__label-arrow:hover:before {color: black;}#sk-container-id-40 div.sk-estimator:hover label.sk-toggleable__label-arrow:before {color: black;}#sk-container-id-40 div.sk-toggleable__content {max-height: 0;max-width: 0;overflow: hidden;text-align: left;background-color: #f0f8ff;}#sk-container-id-40 div.sk-toggleable__content pre {margin: 0.2em;color: black;border-radius: 0.25em;background-color: #f0f8ff;}#sk-container-id-40 input.sk-toggleable__control:checked~div.sk-toggleable__content {max-height: 200px;max-width: 100%;overflow: auto;}#sk-container-id-40 input.sk-toggleable__control:checked~label.sk-toggleable__label-arrow:before {content: \"▾\";}#sk-container-id-40 div.sk-estimator input.sk-toggleable__control:checked~label.sk-toggleable__label {background-color: #d4ebff;}#sk-container-id-40 div.sk-label input.sk-toggleable__control:checked~label.sk-toggleable__label {background-color: #d4ebff;}#sk-container-id-40 input.sk-hidden--visually {border: 0;clip: rect(1px 1px 1px 1px);clip: rect(1px, 1px, 1px, 1px);height: 1px;margin: -1px;overflow: hidden;padding: 0;position: absolute;width: 1px;}#sk-container-id-40 div.sk-estimator {font-family: monospace;background-color: #f0f8ff;border: 1px dotted black;border-radius: 0.25em;box-sizing: border-box;margin-bottom: 0.5em;}#sk-container-id-40 div.sk-estimator:hover {background-color: #d4ebff;}#sk-container-id-40 div.sk-parallel-item::after {content: \"\";width: 100%;border-bottom: 1px solid gray;flex-grow: 1;}#sk-container-id-40 div.sk-label:hover label.sk-toggleable__label {background-color: #d4ebff;}#sk-container-id-40 div.sk-serial::before {content: \"\";position: absolute;border-left: 1px solid gray;box-sizing: border-box;top: 0;bottom: 0;left: 50%;z-index: 0;}#sk-container-id-40 div.sk-serial {display: flex;flex-direction: column;align-items: center;background-color: white;padding-right: 0.2em;padding-left: 0.2em;position: relative;}#sk-container-id-40 div.sk-item {position: relative;z-index: 1;}#sk-container-id-40 div.sk-parallel {display: flex;align-items: stretch;justify-content: center;background-color: white;position: relative;}#sk-container-id-40 div.sk-item::before, #sk-container-id-40 div.sk-parallel-item::before {content: \"\";position: absolute;border-left: 1px solid gray;box-sizing: border-box;top: 0;bottom: 0;left: 50%;z-index: -1;}#sk-container-id-40 div.sk-parallel-item {display: flex;flex-direction: column;z-index: 1;position: relative;background-color: white;}#sk-container-id-40 div.sk-parallel-item:first-child::after {align-self: flex-end;width: 50%;}#sk-container-id-40 div.sk-parallel-item:last-child::after {align-self: flex-start;width: 50%;}#sk-container-id-40 div.sk-parallel-item:only-child::after {width: 0;}#sk-container-id-40 div.sk-dashed-wrapped {border: 1px dashed gray;margin: 0 0.4em 0.5em 0.4em;box-sizing: border-box;padding-bottom: 0.4em;background-color: white;}#sk-container-id-40 div.sk-label label {font-family: monospace;font-weight: bold;display: inline-block;line-height: 1.2em;}#sk-container-id-40 div.sk-label-container {text-align: center;}#sk-container-id-40 div.sk-container {/* jupyter's `normalize.less` sets `[hidden] { display: none; }` but bootstrap.min.css set `[hidden] { display: none !important; }` so we also need the `!important` here to be able to override the default hidden behavior on the sphinx rendered scikit-learn.org. See: https://github.com/scikit-learn/scikit-learn/issues/21755 */display: inline-block !important;position: relative;}#sk-container-id-40 div.sk-text-repr-fallback {display: none;}</style><div id=\"sk-container-id-40\" class=\"sk-top-container\"><div class=\"sk-text-repr-fallback\"><pre>SVC(C=2, gamma=0.01, random_state=42)</pre><b>In a Jupyter environment, please rerun this cell to show the HTML representation or trust the notebook. <br />On GitHub, the HTML representation is unable to render, please try loading this page with nbviewer.org.</b></div><div class=\"sk-container\" hidden><div class=\"sk-item\"><div class=\"sk-estimator sk-toggleable\"><input class=\"sk-toggleable__control sk-hidden--visually\" id=\"sk-estimator-id-112\" type=\"checkbox\" checked><label for=\"sk-estimator-id-112\" class=\"sk-toggleable__label sk-toggleable__label-arrow\">SVC</label><div class=\"sk-toggleable__content\"><pre>SVC(C=2, gamma=0.01, random_state=42)</pre></div></div></div></div></div>"
      ],
      "text/plain": [
       "SVC(C=2, gamma=0.01, random_state=42)"
      ]
     },
     "execution_count": 298,
     "metadata": {},
     "output_type": "execute_result"
    }
   ],
   "source": [
    "# %%time\n",
    "# svm = sklearn.svm.SVC(C = 2, gamma = 0.01,random_state = 42)\n",
    "# svm.fit(X_train,y_train)"
   ]
  },
  {
   "cell_type": "markdown",
   "id": "61e8334d-ddcd-4979-a69c-30dd9c6a2004",
   "metadata": {},
   "source": [
    "Implementation of the GridSearch. We did experiment with changing the grid in one and the other direction."
   ]
  },
  {
   "cell_type": "code",
   "execution_count": 307,
   "id": "db6a206f-1d33-4b4e-831e-97c3176cdca4",
   "metadata": {},
   "outputs": [
    {
     "name": "stdout",
     "output_type": "stream",
     "text": [
      "Fitting 1 folds for each of 49 candidates, totalling 49 fits\n"
     ]
    },
    {
     "data": {
      "text/html": [
       "<style>#sk-container-id-41 {color: black;}#sk-container-id-41 pre{padding: 0;}#sk-container-id-41 div.sk-toggleable {background-color: white;}#sk-container-id-41 label.sk-toggleable__label {cursor: pointer;display: block;width: 100%;margin-bottom: 0;padding: 0.3em;box-sizing: border-box;text-align: center;}#sk-container-id-41 label.sk-toggleable__label-arrow:before {content: \"▸\";float: left;margin-right: 0.25em;color: #696969;}#sk-container-id-41 label.sk-toggleable__label-arrow:hover:before {color: black;}#sk-container-id-41 div.sk-estimator:hover label.sk-toggleable__label-arrow:before {color: black;}#sk-container-id-41 div.sk-toggleable__content {max-height: 0;max-width: 0;overflow: hidden;text-align: left;background-color: #f0f8ff;}#sk-container-id-41 div.sk-toggleable__content pre {margin: 0.2em;color: black;border-radius: 0.25em;background-color: #f0f8ff;}#sk-container-id-41 input.sk-toggleable__control:checked~div.sk-toggleable__content {max-height: 200px;max-width: 100%;overflow: auto;}#sk-container-id-41 input.sk-toggleable__control:checked~label.sk-toggleable__label-arrow:before {content: \"▾\";}#sk-container-id-41 div.sk-estimator input.sk-toggleable__control:checked~label.sk-toggleable__label {background-color: #d4ebff;}#sk-container-id-41 div.sk-label input.sk-toggleable__control:checked~label.sk-toggleable__label {background-color: #d4ebff;}#sk-container-id-41 input.sk-hidden--visually {border: 0;clip: rect(1px 1px 1px 1px);clip: rect(1px, 1px, 1px, 1px);height: 1px;margin: -1px;overflow: hidden;padding: 0;position: absolute;width: 1px;}#sk-container-id-41 div.sk-estimator {font-family: monospace;background-color: #f0f8ff;border: 1px dotted black;border-radius: 0.25em;box-sizing: border-box;margin-bottom: 0.5em;}#sk-container-id-41 div.sk-estimator:hover {background-color: #d4ebff;}#sk-container-id-41 div.sk-parallel-item::after {content: \"\";width: 100%;border-bottom: 1px solid gray;flex-grow: 1;}#sk-container-id-41 div.sk-label:hover label.sk-toggleable__label {background-color: #d4ebff;}#sk-container-id-41 div.sk-serial::before {content: \"\";position: absolute;border-left: 1px solid gray;box-sizing: border-box;top: 0;bottom: 0;left: 50%;z-index: 0;}#sk-container-id-41 div.sk-serial {display: flex;flex-direction: column;align-items: center;background-color: white;padding-right: 0.2em;padding-left: 0.2em;position: relative;}#sk-container-id-41 div.sk-item {position: relative;z-index: 1;}#sk-container-id-41 div.sk-parallel {display: flex;align-items: stretch;justify-content: center;background-color: white;position: relative;}#sk-container-id-41 div.sk-item::before, #sk-container-id-41 div.sk-parallel-item::before {content: \"\";position: absolute;border-left: 1px solid gray;box-sizing: border-box;top: 0;bottom: 0;left: 50%;z-index: -1;}#sk-container-id-41 div.sk-parallel-item {display: flex;flex-direction: column;z-index: 1;position: relative;background-color: white;}#sk-container-id-41 div.sk-parallel-item:first-child::after {align-self: flex-end;width: 50%;}#sk-container-id-41 div.sk-parallel-item:last-child::after {align-self: flex-start;width: 50%;}#sk-container-id-41 div.sk-parallel-item:only-child::after {width: 0;}#sk-container-id-41 div.sk-dashed-wrapped {border: 1px dashed gray;margin: 0 0.4em 0.5em 0.4em;box-sizing: border-box;padding-bottom: 0.4em;background-color: white;}#sk-container-id-41 div.sk-label label {font-family: monospace;font-weight: bold;display: inline-block;line-height: 1.2em;}#sk-container-id-41 div.sk-label-container {text-align: center;}#sk-container-id-41 div.sk-container {/* jupyter's `normalize.less` sets `[hidden] { display: none; }` but bootstrap.min.css set `[hidden] { display: none !important; }` so we also need the `!important` here to be able to override the default hidden behavior on the sphinx rendered scikit-learn.org. See: https://github.com/scikit-learn/scikit-learn/issues/21755 */display: inline-block !important;position: relative;}#sk-container-id-41 div.sk-text-repr-fallback {display: none;}</style><div id=\"sk-container-id-41\" class=\"sk-top-container\"><div class=\"sk-text-repr-fallback\"><pre>GridSearchCV(cv=PredefinedSplit(test_fold=array([-1, -1, ..., -1, -1])),\n",
       "             estimator=SVC(random_state=42),\n",
       "             param_grid={&#x27;C&#x27;: [4, 2, 1, 0.1, 10, 0.5, 20],\n",
       "                         &#x27;gamma&#x27;: [0.1, 0.4, 0.5, 0.6, 0.01, 0.001, 0.005]},\n",
       "             scoring=&#x27;accuracy&#x27;, verbose=True)</pre><b>In a Jupyter environment, please rerun this cell to show the HTML representation or trust the notebook. <br />On GitHub, the HTML representation is unable to render, please try loading this page with nbviewer.org.</b></div><div class=\"sk-container\" hidden><div class=\"sk-item sk-dashed-wrapped\"><div class=\"sk-label-container\"><div class=\"sk-label sk-toggleable\"><input class=\"sk-toggleable__control sk-hidden--visually\" id=\"sk-estimator-id-113\" type=\"checkbox\" ><label for=\"sk-estimator-id-113\" class=\"sk-toggleable__label sk-toggleable__label-arrow\">GridSearchCV</label><div class=\"sk-toggleable__content\"><pre>GridSearchCV(cv=PredefinedSplit(test_fold=array([-1, -1, ..., -1, -1])),\n",
       "             estimator=SVC(random_state=42),\n",
       "             param_grid={&#x27;C&#x27;: [4, 2, 1, 0.1, 10, 0.5, 20],\n",
       "                         &#x27;gamma&#x27;: [0.1, 0.4, 0.5, 0.6, 0.01, 0.001, 0.005]},\n",
       "             scoring=&#x27;accuracy&#x27;, verbose=True)</pre></div></div></div><div class=\"sk-parallel\"><div class=\"sk-parallel-item\"><div class=\"sk-item\"><div class=\"sk-label-container\"><div class=\"sk-label sk-toggleable\"><input class=\"sk-toggleable__control sk-hidden--visually\" id=\"sk-estimator-id-114\" type=\"checkbox\" ><label for=\"sk-estimator-id-114\" class=\"sk-toggleable__label sk-toggleable__label-arrow\">estimator: SVC</label><div class=\"sk-toggleable__content\"><pre>SVC(random_state=42)</pre></div></div></div><div class=\"sk-serial\"><div class=\"sk-item\"><div class=\"sk-estimator sk-toggleable\"><input class=\"sk-toggleable__control sk-hidden--visually\" id=\"sk-estimator-id-115\" type=\"checkbox\" ><label for=\"sk-estimator-id-115\" class=\"sk-toggleable__label sk-toggleable__label-arrow\">SVC</label><div class=\"sk-toggleable__content\"><pre>SVC(random_state=42)</pre></div></div></div></div></div></div></div></div></div></div>"
      ],
      "text/plain": [
       "GridSearchCV(cv=PredefinedSplit(test_fold=array([-1, -1, ..., -1, -1])),\n",
       "             estimator=SVC(random_state=42),\n",
       "             param_grid={'C': [4, 2, 1, 0.1, 10, 0.5, 20],\n",
       "                         'gamma': [0.1, 0.4, 0.5, 0.6, 0.01, 0.001, 0.005]},\n",
       "             scoring='accuracy', verbose=True)"
      ]
     },
     "execution_count": 307,
     "metadata": {},
     "output_type": "execute_result"
    }
   ],
   "source": [
    "svm = sklearn.svm.SVC(random_state = 42)\n",
    "parameters = {'C':[4,2,1,0.1,10,0.5,20],'gamma':[0.1,0.4,0.5,0.6,0.01,0.001,0.005]}\n",
    "clf = GridSearchCV(svm, parameters, verbose = True, cv = ps, scoring = 'accuracy')\n",
    "clf.fit(data.data, data.target)"
   ]
  },
  {
   "cell_type": "code",
   "execution_count": 308,
   "id": "2b637b7d-a578-43dd-8a2e-f1db6cbb1297",
   "metadata": {},
   "outputs": [
    {
     "name": "stdout",
     "output_type": "stream",
     "text": [
      "Fitting 1 folds for each of 30 candidates, totalling 30 fits\n"
     ]
    },
    {
     "data": {
      "text/html": [
       "<style>#sk-container-id-42 {color: black;}#sk-container-id-42 pre{padding: 0;}#sk-container-id-42 div.sk-toggleable {background-color: white;}#sk-container-id-42 label.sk-toggleable__label {cursor: pointer;display: block;width: 100%;margin-bottom: 0;padding: 0.3em;box-sizing: border-box;text-align: center;}#sk-container-id-42 label.sk-toggleable__label-arrow:before {content: \"▸\";float: left;margin-right: 0.25em;color: #696969;}#sk-container-id-42 label.sk-toggleable__label-arrow:hover:before {color: black;}#sk-container-id-42 div.sk-estimator:hover label.sk-toggleable__label-arrow:before {color: black;}#sk-container-id-42 div.sk-toggleable__content {max-height: 0;max-width: 0;overflow: hidden;text-align: left;background-color: #f0f8ff;}#sk-container-id-42 div.sk-toggleable__content pre {margin: 0.2em;color: black;border-radius: 0.25em;background-color: #f0f8ff;}#sk-container-id-42 input.sk-toggleable__control:checked~div.sk-toggleable__content {max-height: 200px;max-width: 100%;overflow: auto;}#sk-container-id-42 input.sk-toggleable__control:checked~label.sk-toggleable__label-arrow:before {content: \"▾\";}#sk-container-id-42 div.sk-estimator input.sk-toggleable__control:checked~label.sk-toggleable__label {background-color: #d4ebff;}#sk-container-id-42 div.sk-label input.sk-toggleable__control:checked~label.sk-toggleable__label {background-color: #d4ebff;}#sk-container-id-42 input.sk-hidden--visually {border: 0;clip: rect(1px 1px 1px 1px);clip: rect(1px, 1px, 1px, 1px);height: 1px;margin: -1px;overflow: hidden;padding: 0;position: absolute;width: 1px;}#sk-container-id-42 div.sk-estimator {font-family: monospace;background-color: #f0f8ff;border: 1px dotted black;border-radius: 0.25em;box-sizing: border-box;margin-bottom: 0.5em;}#sk-container-id-42 div.sk-estimator:hover {background-color: #d4ebff;}#sk-container-id-42 div.sk-parallel-item::after {content: \"\";width: 100%;border-bottom: 1px solid gray;flex-grow: 1;}#sk-container-id-42 div.sk-label:hover label.sk-toggleable__label {background-color: #d4ebff;}#sk-container-id-42 div.sk-serial::before {content: \"\";position: absolute;border-left: 1px solid gray;box-sizing: border-box;top: 0;bottom: 0;left: 50%;z-index: 0;}#sk-container-id-42 div.sk-serial {display: flex;flex-direction: column;align-items: center;background-color: white;padding-right: 0.2em;padding-left: 0.2em;position: relative;}#sk-container-id-42 div.sk-item {position: relative;z-index: 1;}#sk-container-id-42 div.sk-parallel {display: flex;align-items: stretch;justify-content: center;background-color: white;position: relative;}#sk-container-id-42 div.sk-item::before, #sk-container-id-42 div.sk-parallel-item::before {content: \"\";position: absolute;border-left: 1px solid gray;box-sizing: border-box;top: 0;bottom: 0;left: 50%;z-index: -1;}#sk-container-id-42 div.sk-parallel-item {display: flex;flex-direction: column;z-index: 1;position: relative;background-color: white;}#sk-container-id-42 div.sk-parallel-item:first-child::after {align-self: flex-end;width: 50%;}#sk-container-id-42 div.sk-parallel-item:last-child::after {align-self: flex-start;width: 50%;}#sk-container-id-42 div.sk-parallel-item:only-child::after {width: 0;}#sk-container-id-42 div.sk-dashed-wrapped {border: 1px dashed gray;margin: 0 0.4em 0.5em 0.4em;box-sizing: border-box;padding-bottom: 0.4em;background-color: white;}#sk-container-id-42 div.sk-label label {font-family: monospace;font-weight: bold;display: inline-block;line-height: 1.2em;}#sk-container-id-42 div.sk-label-container {text-align: center;}#sk-container-id-42 div.sk-container {/* jupyter's `normalize.less` sets `[hidden] { display: none; }` but bootstrap.min.css set `[hidden] { display: none !important; }` so we also need the `!important` here to be able to override the default hidden behavior on the sphinx rendered scikit-learn.org. See: https://github.com/scikit-learn/scikit-learn/issues/21755 */display: inline-block !important;position: relative;}#sk-container-id-42 div.sk-text-repr-fallback {display: none;}</style><div id=\"sk-container-id-42\" class=\"sk-top-container\"><div class=\"sk-text-repr-fallback\"><pre>RandomizedSearchCV(cv=PredefinedSplit(test_fold=array([-1, -1, ..., -1, -1])),\n",
       "                   estimator=SVC(random_state=10), n_iter=30,\n",
       "                   param_distributions={&#x27;C&#x27;: C, Type: UniformFloat, Range: [0.00125, 400.0], Default: 1.0, on log-scale,\n",
       "                                        &#x27;gamma&#x27;: gamma, Type: UniformFloat, Range: [3.0517578125e-05, 6.0], Default: 0.01, on log-scale},\n",
       "                   random_state=10, scoring=&#x27;accuracy&#x27;, verbose=True)</pre><b>In a Jupyter environment, please rerun this cell to show the HTML representation or trust the notebook. <br />On GitHub, the HTML representation is unable to render, please try loading this page with nbviewer.org.</b></div><div class=\"sk-container\" hidden><div class=\"sk-item sk-dashed-wrapped\"><div class=\"sk-label-container\"><div class=\"sk-label sk-toggleable\"><input class=\"sk-toggleable__control sk-hidden--visually\" id=\"sk-estimator-id-116\" type=\"checkbox\" ><label for=\"sk-estimator-id-116\" class=\"sk-toggleable__label sk-toggleable__label-arrow\">RandomizedSearchCV</label><div class=\"sk-toggleable__content\"><pre>RandomizedSearchCV(cv=PredefinedSplit(test_fold=array([-1, -1, ..., -1, -1])),\n",
       "                   estimator=SVC(random_state=10), n_iter=30,\n",
       "                   param_distributions={&#x27;C&#x27;: C, Type: UniformFloat, Range: [0.00125, 400.0], Default: 1.0, on log-scale,\n",
       "                                        &#x27;gamma&#x27;: gamma, Type: UniformFloat, Range: [3.0517578125e-05, 6.0], Default: 0.01, on log-scale},\n",
       "                   random_state=10, scoring=&#x27;accuracy&#x27;, verbose=True)</pre></div></div></div><div class=\"sk-parallel\"><div class=\"sk-parallel-item\"><div class=\"sk-item\"><div class=\"sk-label-container\"><div class=\"sk-label sk-toggleable\"><input class=\"sk-toggleable__control sk-hidden--visually\" id=\"sk-estimator-id-117\" type=\"checkbox\" ><label for=\"sk-estimator-id-117\" class=\"sk-toggleable__label sk-toggleable__label-arrow\">estimator: SVC</label><div class=\"sk-toggleable__content\"><pre>SVC(random_state=10)</pre></div></div></div><div class=\"sk-serial\"><div class=\"sk-item\"><div class=\"sk-estimator sk-toggleable\"><input class=\"sk-toggleable__control sk-hidden--visually\" id=\"sk-estimator-id-118\" type=\"checkbox\" ><label for=\"sk-estimator-id-118\" class=\"sk-toggleable__label sk-toggleable__label-arrow\">SVC</label><div class=\"sk-toggleable__content\"><pre>SVC(random_state=10)</pre></div></div></div></div></div></div></div></div></div></div>"
      ],
      "text/plain": [
       "RandomizedSearchCV(cv=PredefinedSplit(test_fold=array([-1, -1, ..., -1, -1])),\n",
       "                   estimator=SVC(random_state=10), n_iter=30,\n",
       "                   param_distributions={'C': C, Type: UniformFloat, Range: [0.00125, 400.0], Default: 1.0, on log-scale,\n",
       "                                        'gamma': gamma, Type: UniformFloat, Range: [3.0517578125e-05, 6.0], Default: 0.01, on log-scale},\n",
       "                   random_state=10, scoring='accuracy', verbose=True)"
      ]
     },
     "execution_count": 308,
     "metadata": {},
     "output_type": "execute_result"
    }
   ],
   "source": [
    "svm = sklearn.svm.SVC(random_state = 42)\n",
    "parameters = {'C':ConfigSpace.UniformFloatHyperparameter(\n",
    "                name='C', lower=0.00125, upper=400, log=True, default_value=1.0),'gamma':ConfigSpace.UniformFloatHyperparameter(\n",
    "                name='gamma', lower=3.0517578125e-05, upper=6, log=True, default_value=0.01)}\n",
    "random_clf = RandomizedSearchCV(svm, parameters, verbose = True, cv =ps , scoring = 'accuracy',n_iter = 30, random_state = 42)\n",
    "random_clf.fit(data.data, data.target)"
   ]
  },
  {
   "cell_type": "code",
   "execution_count": 309,
   "id": "5216e844-0ddf-4836-bfa4-16edf9a2e7bd",
   "metadata": {},
   "outputs": [
    {
     "data": {
      "text/plain": [
       "{'C': 7.4117131404399705, 'gamma': 3.399650036009982}"
      ]
     },
     "execution_count": 309,
     "metadata": {},
     "output_type": "execute_result"
    }
   ],
   "source": [
    "random_clf.best_params_"
   ]
  },
  {
   "cell_type": "markdown",
   "id": "c8bf6072-fa93-4d88-b7b2-79b84a7eec66",
   "metadata": {},
   "source": [
    "Here is just a check if the results from the RandomizedSearch and the GridSearch do not come from the learning from the valid_set"
   ]
  },
  {
   "cell_type": "code",
   "execution_count": 318,
   "id": "e08ac5ae-9da6-4e28-84a3-5a3d8bab8255",
   "metadata": {},
   "outputs": [
    {
     "data": {
      "text/plain": [
       "0.8101384337591119"
      ]
     },
     "execution_count": 318,
     "metadata": {},
     "output_type": "execute_result"
    }
   ],
   "source": [
    "# svm = sklearn.svm.SVC(random_state = 10, C = 7.41171, gamma = 3.39965)\n",
    "# svm.fit(X_train, y_train)\n",
    "# svm.score(X_valid, y_valid)"
   ]
  },
  {
   "cell_type": "code",
   "execution_count": 310,
   "id": "2b66e9ce-cf6d-413e-b288-26e6fb20cce5",
   "metadata": {},
   "outputs": [
    {
     "name": "stdout",
     "output_type": "stream",
     "text": [
      "GridSearch best valid_score: 0.793084999665619\n",
      "RandomSearch best valid_score: 0.8102721861833746\n",
      "Beyssian algorithm best valid_score: 0.7874005216344546\n"
     ]
    }
   ],
   "source": [
    "print(f\"GridSearch best valid_score: {np.max(clf.cv_results_['split0_test_score'])}\")\n",
    "print(f\"RandomSearch best valid_score: {np.max(random_clf.cv_results_['split0_test_score'])}\")\n",
    "print(f\"Beyssian algorithm best valid_score: {smbo.theta_inc_performance}\")"
   ]
  },
  {
   "cell_type": "code",
   "execution_count": 311,
   "id": "30f897bb-d6e3-4edb-a8e3-635e3eed6739",
   "metadata": {},
   "outputs": [],
   "source": [
    "ran_x = random_clf.cv_results_['param_C'].data.astype(np.float64)\n",
    "ran_y = random_clf.cv_results_['param_gamma'].data.astype(np.float64)\n",
    "ran_pref = random_clf.cv_results_['split0_test_score']"
   ]
  },
  {
   "cell_type": "code",
   "execution_count": 312,
   "id": "93fd347d-8280-49e6-847b-952f8a7d54c4",
   "metadata": {},
   "outputs": [],
   "source": [
    "grid_x = clf.cv_results_['param_C'].data.astype(np.float64)\n",
    "grid_y = clf.cv_results_['param_gamma'].data.astype(np.float64)\n",
    "grid_pref = clf.cv_results_['split0_test_score']"
   ]
  },
  {
   "cell_type": "code",
   "execution_count": 313,
   "id": "e2746199-461f-4960-b630-0f654ce89df4",
   "metadata": {},
   "outputs": [],
   "source": [
    "runs =  smbo.capital_r\n",
    "C = []\n",
    "performances = []\n",
    "gamma = []\n",
    "for i in runs:\n",
    "    C.append(i[0][0])\n",
    "    gamma.append(i[0][1])\n",
    "    performances.append(i[1])\n",
    "# print(n_param)"
   ]
  },
  {
   "cell_type": "code",
   "execution_count": 314,
   "id": "9c759276-5416-4c12-bf17-c5131625c8ac",
   "metadata": {},
   "outputs": [],
   "source": [
    "plot_all_x = np.concatenate((np.concatenate((np.array(C), grid_x)),ran_x))\n",
    "plot_all_y = np.concatenate((np.concatenate((np.array(gamma), grid_y)),ran_y))\n",
    "all_perf = np.concatenate((np.concatenate((np.array(performances), grid_pref)),ran_pref))"
   ]
  },
  {
   "cell_type": "code",
   "execution_count": 315,
   "id": "31eda08d-ae0c-4fd7-912a-5ede3c35c19a",
   "metadata": {},
   "outputs": [
    {
     "data": {
      "text/plain": [
       "Text(0.5, 1.0, 'SVM performance landscape')"
      ]
     },
     "execution_count": 315,
     "metadata": {},
     "output_type": "execute_result"
    },
    {
     "data": {
      "image/png": "[encoded data removed]",
      "text/plain": [
       "<Figure size 640x480 with 2 Axes>"
      ]
     },
     "metadata": {},
     "output_type": "display_data"
    }
   ],
   "source": [
    "fig, ax = plt.subplots()\n",
    "\n",
    "# Plotting all evaluations:\n",
    "ax.plot(C, gamma, \"o\", c = 'purple')#, ms=1)\n",
    "ax.plot(grid_x, grid_y, \"x\", c = 'black')#, ms=1)\n",
    "ax.plot(ran_x, ran_y, \"v\", c = 'black')#, ms=1)\n",
    "# Create a contour plot\n",
    "cntr = ax.tricontourf(plot_all_x, plot_all_y, all_perf, levels=12, cmap=\"RdBu_r\")\n",
    "# Adjusting the colorbar\n",
    "fig.colorbar(cntr, ax=ax, label=\"accuracy\")\n",
    "# Adjusting the axis limits\n",
    "ax.set(\n",
    "    xlim=(min(plot_all_x), 5),\n",
    "    ylim=(min(plot_all_x), 2),\n",
    "    xlabel=\"C\",\n",
    "    ylabel=\"gamma\",\n",
    ")\n",
    "ax.set_title(\"SVM performance landscape\")"
   ]
  },
  {
   "cell_type": "markdown",
   "id": "85659b4c-06e5-4570-a7ec-b1ae411db1f7",
   "metadata": {},
   "source": [
    "## AdaBoost"
   ]
  },
  {
   "cell_type": "code",
   "execution_count": 320,
   "id": "9bae6509-577a-4169-9adc-07f43eeb7faa",
   "metadata": {},
   "outputs": [
    {
     "name": "stdout",
     "output_type": "stream",
     "text": [
      "iteration 0/30\n",
      "current perforance: 0.821574\n",
      "iteration 1/30\n",
      "current perforance: 0.827727\n",
      "iteration 2/30\n",
      "current perforance: 0.819969\n",
      "iteration 3/30\n",
      "current perforance: 0.839096\n",
      "iteration 4/30\n",
      "current perforance: 0.785461\n",
      "iteration 5/30\n",
      "current perforance: 0.838093\n",
      "iteration 6/30\n",
      "current perforance: 0.829265\n",
      "iteration 7/30\n",
      "current perforance: 0.818765\n",
      "iteration 8/30\n",
      "current perforance: 0.836020\n",
      "iteration 9/30\n",
      "current perforance: 0.838895\n",
      "iteration 10/30\n",
      "current perforance: 0.839096\n",
      "iteration 11/30\n",
      "current perforance: 0.839096\n",
      "iteration 12/30\n",
      "current perforance: 0.839096\n",
      "iteration 13/30\n",
      "current perforance: 0.839096\n",
      "iteration 14/30\n",
      "current perforance: 0.839096\n",
      "iteration 15/30\n",
      "current perforance: 0.839096\n",
      "iteration 16/30\n",
      "current perforance: 0.839096\n",
      "iteration 17/30\n",
      "current perforance: 0.839096\n",
      "iteration 18/30\n",
      "current perforance: 0.839096\n",
      "iteration 19/30\n",
      "current perforance: 0.839096\n",
      "CPU times: total: 45min 9s\n",
      "Wall time: 45min 22s\n"
     ]
    }
   ],
   "source": [
    "%%time\n",
    "def optimizee(n_estimators, learning_rate):\n",
    "            clf = AdaBoostClassifier()\n",
    "            clf.set_params(n_estimators = int(n_estimators), learning_rate = learning_rate)\n",
    "            clf.fit(X_train, y_train)\n",
    "            return sklearn.metrics.accuracy_score(y_valid, clf.predict(X_valid))\n",
    "def sample_configurations(n_configurations):\n",
    "            # function uses the ConfigSpace package, as developed at Freiburg University.\n",
    "            # most of this functionality can also be achieved by the scipy package\n",
    "            # same hyperparameter configuration as in scikit-learn\n",
    "            cs = ConfigSpace.ConfigurationSpace('sklearn.ensemble.AdaBoostClassifier', 1)\n",
    "\n",
    "            n_estimators = ConfigSpace.UniformIntegerHyperparameter(\n",
    "                name='n_estimators', lower=10, upper=1000, default_value=150)\n",
    "    \n",
    "            learning_rate = ConfigSpace.UniformFloatHyperparameter(\n",
    "                name='learning_rate', lower=3.0517578125e-05, upper=1, default_value=0.1)\n",
    "    \n",
    "            cs.add_hyperparameters([learning_rate, n_estimators])\n",
    "\n",
    "            return np.array([(configuration['n_estimators'],\n",
    "                              configuration['learning_rate'])\n",
    "                            for configuration in cs.sample_configuration(n_configurations)])\n",
    "\n",
    "def sample_initial_configurations(n: int) -> typing.List[typing.Tuple[np.array, float]]:\n",
    "            configs = sample_configurations(n)\n",
    "            return [((n_estimators, learning_rate), optimizee(n_estimators, learning_rate)) for n_estimators, learning_rate in configs]\n",
    "\n",
    "smbo_ada = SequentialModelBasedOptimization()\n",
    "smbo_ada.initialize(sample_initial_configurations(15))\n",
    "\n",
    "\n",
    "for idx in range(20):\n",
    "            print('iteration %d/30' % idx)\n",
    "            smbo_ada.fit_model()\n",
    "            theta_new = smbo_ada.select_configuration(sample_configurations(512))\n",
    "            performance = optimizee(theta_new[0], theta_new[1])\n",
    "            smbo_ada.update_runs((theta_new, performance))\n",
    "            print('current perforance: %f' % performance)\n"
   ]
  },
  {
   "cell_type": "markdown",
   "id": "b56b4508-12b3-4565-aa8c-5a608826c8dd",
   "metadata": {},
   "source": [
    "Fitting the GridSearch over AdaBoost"
   ]
  },
  {
   "cell_type": "code",
   "execution_count": 321,
   "id": "ec21935f-140e-4976-92ed-dcf67f828bb7",
   "metadata": {},
   "outputs": [
    {
     "name": "stdout",
     "output_type": "stream",
     "text": [
      "Fitting 1 folds for each of 42 candidates, totalling 42 fits\n"
     ]
    },
    {
     "data": {
      "text/html": [
       "<style>#sk-container-id-44 {color: black;}#sk-container-id-44 pre{padding: 0;}#sk-container-id-44 div.sk-toggleable {background-color: white;}#sk-container-id-44 label.sk-toggleable__label {cursor: pointer;display: block;width: 100%;margin-bottom: 0;padding: 0.3em;box-sizing: border-box;text-align: center;}#sk-container-id-44 label.sk-toggleable__label-arrow:before {content: \"▸\";float: left;margin-right: 0.25em;color: #696969;}#sk-container-id-44 label.sk-toggleable__label-arrow:hover:before {color: black;}#sk-container-id-44 div.sk-estimator:hover label.sk-toggleable__label-arrow:before {color: black;}#sk-container-id-44 div.sk-toggleable__content {max-height: 0;max-width: 0;overflow: hidden;text-align: left;background-color: #f0f8ff;}#sk-container-id-44 div.sk-toggleable__content pre {margin: 0.2em;color: black;border-radius: 0.25em;background-color: #f0f8ff;}#sk-container-id-44 input.sk-toggleable__control:checked~div.sk-toggleable__content {max-height: 200px;max-width: 100%;overflow: auto;}#sk-container-id-44 input.sk-toggleable__control:checked~label.sk-toggleable__label-arrow:before {content: \"▾\";}#sk-container-id-44 div.sk-estimator input.sk-toggleable__control:checked~label.sk-toggleable__label {background-color: #d4ebff;}#sk-container-id-44 div.sk-label input.sk-toggleable__control:checked~label.sk-toggleable__label {background-color: #d4ebff;}#sk-container-id-44 input.sk-hidden--visually {border: 0;clip: rect(1px 1px 1px 1px);clip: rect(1px, 1px, 1px, 1px);height: 1px;margin: -1px;overflow: hidden;padding: 0;position: absolute;width: 1px;}#sk-container-id-44 div.sk-estimator {font-family: monospace;background-color: #f0f8ff;border: 1px dotted black;border-radius: 0.25em;box-sizing: border-box;margin-bottom: 0.5em;}#sk-container-id-44 div.sk-estimator:hover {background-color: #d4ebff;}#sk-container-id-44 div.sk-parallel-item::after {content: \"\";width: 100%;border-bottom: 1px solid gray;flex-grow: 1;}#sk-container-id-44 div.sk-label:hover label.sk-toggleable__label {background-color: #d4ebff;}#sk-container-id-44 div.sk-serial::before {content: \"\";position: absolute;border-left: 1px solid gray;box-sizing: border-box;top: 0;bottom: 0;left: 50%;z-index: 0;}#sk-container-id-44 div.sk-serial {display: flex;flex-direction: column;align-items: center;background-color: white;padding-right: 0.2em;padding-left: 0.2em;position: relative;}#sk-container-id-44 div.sk-item {position: relative;z-index: 1;}#sk-container-id-44 div.sk-parallel {display: flex;align-items: stretch;justify-content: center;background-color: white;position: relative;}#sk-container-id-44 div.sk-item::before, #sk-container-id-44 div.sk-parallel-item::before {content: \"\";position: absolute;border-left: 1px solid gray;box-sizing: border-box;top: 0;bottom: 0;left: 50%;z-index: -1;}#sk-container-id-44 div.sk-parallel-item {display: flex;flex-direction: column;z-index: 1;position: relative;background-color: white;}#sk-container-id-44 div.sk-parallel-item:first-child::after {align-self: flex-end;width: 50%;}#sk-container-id-44 div.sk-parallel-item:last-child::after {align-self: flex-start;width: 50%;}#sk-container-id-44 div.sk-parallel-item:only-child::after {width: 0;}#sk-container-id-44 div.sk-dashed-wrapped {border: 1px dashed gray;margin: 0 0.4em 0.5em 0.4em;box-sizing: border-box;padding-bottom: 0.4em;background-color: white;}#sk-container-id-44 div.sk-label label {font-family: monospace;font-weight: bold;display: inline-block;line-height: 1.2em;}#sk-container-id-44 div.sk-label-container {text-align: center;}#sk-container-id-44 div.sk-container {/* jupyter's `normalize.less` sets `[hidden] { display: none; }` but bootstrap.min.css set `[hidden] { display: none !important; }` so we also need the `!important` here to be able to override the default hidden behavior on the sphinx rendered scikit-learn.org. See: https://github.com/scikit-learn/scikit-learn/issues/21755 */display: inline-block !important;position: relative;}#sk-container-id-44 div.sk-text-repr-fallback {display: none;}</style><div id=\"sk-container-id-44\" class=\"sk-top-container\"><div class=\"sk-text-repr-fallback\"><pre>GridSearchCV(cv=PredefinedSplit(test_fold=array([-1, -1, ..., -1, -1])),\n",
       "             estimator=AdaBoostClassifier(),\n",
       "             param_grid={&#x27;learning_rate&#x27;: [0.01, 0.05, 0.001, 0.1, 0.3, 0.5],\n",
       "                         &#x27;n_estimators&#x27;: [50, 100, 200, 300, 400, 800, 1000]},\n",
       "             scoring=&#x27;accuracy&#x27;, verbose=True)</pre><b>In a Jupyter environment, please rerun this cell to show the HTML representation or trust the notebook. <br />On GitHub, the HTML representation is unable to render, please try loading this page with nbviewer.org.</b></div><div class=\"sk-container\" hidden><div class=\"sk-item sk-dashed-wrapped\"><div class=\"sk-label-container\"><div class=\"sk-label sk-toggleable\"><input class=\"sk-toggleable__control sk-hidden--visually\" id=\"sk-estimator-id-120\" type=\"checkbox\" ><label for=\"sk-estimator-id-120\" class=\"sk-toggleable__label sk-toggleable__label-arrow\">GridSearchCV</label><div class=\"sk-toggleable__content\"><pre>GridSearchCV(cv=PredefinedSplit(test_fold=array([-1, -1, ..., -1, -1])),\n",
       "             estimator=AdaBoostClassifier(),\n",
       "             param_grid={&#x27;learning_rate&#x27;: [0.01, 0.05, 0.001, 0.1, 0.3, 0.5],\n",
       "                         &#x27;n_estimators&#x27;: [50, 100, 200, 300, 400, 800, 1000]},\n",
       "             scoring=&#x27;accuracy&#x27;, verbose=True)</pre></div></div></div><div class=\"sk-parallel\"><div class=\"sk-parallel-item\"><div class=\"sk-item\"><div class=\"sk-label-container\"><div class=\"sk-label sk-toggleable\"><input class=\"sk-toggleable__control sk-hidden--visually\" id=\"sk-estimator-id-121\" type=\"checkbox\" ><label for=\"sk-estimator-id-121\" class=\"sk-toggleable__label sk-toggleable__label-arrow\">estimator: AdaBoostClassifier</label><div class=\"sk-toggleable__content\"><pre>AdaBoostClassifier()</pre></div></div></div><div class=\"sk-serial\"><div class=\"sk-item\"><div class=\"sk-estimator sk-toggleable\"><input class=\"sk-toggleable__control sk-hidden--visually\" id=\"sk-estimator-id-122\" type=\"checkbox\" ><label for=\"sk-estimator-id-122\" class=\"sk-toggleable__label sk-toggleable__label-arrow\">AdaBoostClassifier</label><div class=\"sk-toggleable__content\"><pre>AdaBoostClassifier()</pre></div></div></div></div></div></div></div></div></div></div>"
      ],
      "text/plain": [
       "GridSearchCV(cv=PredefinedSplit(test_fold=array([-1, -1, ..., -1, -1])),\n",
       "             estimator=AdaBoostClassifier(),\n",
       "             param_grid={'learning_rate': [0.01, 0.05, 0.001, 0.1, 0.3, 0.5],\n",
       "                         'n_estimators': [50, 100, 200, 300, 400, 800, 1000]},\n",
       "             scoring='accuracy', verbose=True)"
      ]
     },
     "execution_count": 321,
     "metadata": {},
     "output_type": "execute_result"
    }
   ],
   "source": [
    "ada = AdaBoostClassifier()\n",
    "parameters = {'n_estimators':[50,100,200,300,400,800,1000],'learning_rate':[0.01,0.05,0.001,0.1,0.3,0.5]}\n",
    "clf_ada = GridSearchCV(ada, parameters, verbose = True, cv = ps, scoring = 'accuracy')\n",
    "clf_ada.fit(data.data, data.target)"
   ]
  },
  {
   "cell_type": "code",
   "execution_count": 324,
   "id": "4dfca863-f5ab-40be-aaa5-f5df928a3293",
   "metadata": {},
   "outputs": [
    {
     "name": "stdout",
     "output_type": "stream",
     "text": [
      "Fitting 1 folds for each of 30 candidates, totalling 30 fits\n"
     ]
    },
    {
     "data": {
      "text/html": [
       "<style>#sk-container-id-46 {color: black;}#sk-container-id-46 pre{padding: 0;}#sk-container-id-46 div.sk-toggleable {background-color: white;}#sk-container-id-46 label.sk-toggleable__label {cursor: pointer;display: block;width: 100%;margin-bottom: 0;padding: 0.3em;box-sizing: border-box;text-align: center;}#sk-container-id-46 label.sk-toggleable__label-arrow:before {content: \"▸\";float: left;margin-right: 0.25em;color: #696969;}#sk-container-id-46 label.sk-toggleable__label-arrow:hover:before {color: black;}#sk-container-id-46 div.sk-estimator:hover label.sk-toggleable__label-arrow:before {color: black;}#sk-container-id-46 div.sk-toggleable__content {max-height: 0;max-width: 0;overflow: hidden;text-align: left;background-color: #f0f8ff;}#sk-container-id-46 div.sk-toggleable__content pre {margin: 0.2em;color: black;border-radius: 0.25em;background-color: #f0f8ff;}#sk-container-id-46 input.sk-toggleable__control:checked~div.sk-toggleable__content {max-height: 200px;max-width: 100%;overflow: auto;}#sk-container-id-46 input.sk-toggleable__control:checked~label.sk-toggleable__label-arrow:before {content: \"▾\";}#sk-container-id-46 div.sk-estimator input.sk-toggleable__control:checked~label.sk-toggleable__label {background-color: #d4ebff;}#sk-container-id-46 div.sk-label input.sk-toggleable__control:checked~label.sk-toggleable__label {background-color: #d4ebff;}#sk-container-id-46 input.sk-hidden--visually {border: 0;clip: rect(1px 1px 1px 1px);clip: rect(1px, 1px, 1px, 1px);height: 1px;margin: -1px;overflow: hidden;padding: 0;position: absolute;width: 1px;}#sk-container-id-46 div.sk-estimator {font-family: monospace;background-color: #f0f8ff;border: 1px dotted black;border-radius: 0.25em;box-sizing: border-box;margin-bottom: 0.5em;}#sk-container-id-46 div.sk-estimator:hover {background-color: #d4ebff;}#sk-container-id-46 div.sk-parallel-item::after {content: \"\";width: 100%;border-bottom: 1px solid gray;flex-grow: 1;}#sk-container-id-46 div.sk-label:hover label.sk-toggleable__label {background-color: #d4ebff;}#sk-container-id-46 div.sk-serial::before {content: \"\";position: absolute;border-left: 1px solid gray;box-sizing: border-box;top: 0;bottom: 0;left: 50%;z-index: 0;}#sk-container-id-46 div.sk-serial {display: flex;flex-direction: column;align-items: center;background-color: white;padding-right: 0.2em;padding-left: 0.2em;position: relative;}#sk-container-id-46 div.sk-item {position: relative;z-index: 1;}#sk-container-id-46 div.sk-parallel {display: flex;align-items: stretch;justify-content: center;background-color: white;position: relative;}#sk-container-id-46 div.sk-item::before, #sk-container-id-46 div.sk-parallel-item::before {content: \"\";position: absolute;border-left: 1px solid gray;box-sizing: border-box;top: 0;bottom: 0;left: 50%;z-index: -1;}#sk-container-id-46 div.sk-parallel-item {display: flex;flex-direction: column;z-index: 1;position: relative;background-color: white;}#sk-container-id-46 div.sk-parallel-item:first-child::after {align-self: flex-end;width: 50%;}#sk-container-id-46 div.sk-parallel-item:last-child::after {align-self: flex-start;width: 50%;}#sk-container-id-46 div.sk-parallel-item:only-child::after {width: 0;}#sk-container-id-46 div.sk-dashed-wrapped {border: 1px dashed gray;margin: 0 0.4em 0.5em 0.4em;box-sizing: border-box;padding-bottom: 0.4em;background-color: white;}#sk-container-id-46 div.sk-label label {font-family: monospace;font-weight: bold;display: inline-block;line-height: 1.2em;}#sk-container-id-46 div.sk-label-container {text-align: center;}#sk-container-id-46 div.sk-container {/* jupyter's `normalize.less` sets `[hidden] { display: none; }` but bootstrap.min.css set `[hidden] { display: none !important; }` so we also need the `!important` here to be able to override the default hidden behavior on the sphinx rendered scikit-learn.org. See: https://github.com/scikit-learn/scikit-learn/issues/21755 */display: inline-block !important;position: relative;}#sk-container-id-46 div.sk-text-repr-fallback {display: none;}</style><div id=\"sk-container-id-46\" class=\"sk-top-container\"><div class=\"sk-text-repr-fallback\"><pre>RandomizedSearchCV(cv=PredefinedSplit(test_fold=array([-1, -1, ..., -1, -1])),\n",
       "                   estimator=AdaBoostClassifier(), n_iter=30,\n",
       "                   param_distributions={&#x27;learning_rate&#x27;: learning_rate, Type: UniformFloat, Range: [3.0517578125e-05, 1.0], Default: 0.1,\n",
       "                                        &#x27;n_estimators&#x27;: n_estimators, Type: UniformInteger, Range: [10, 1000], Default: 150},\n",
       "                   scoring=&#x27;accuracy&#x27;, verbose=True)</pre><b>In a Jupyter environment, please rerun this cell to show the HTML representation or trust the notebook. <br />On GitHub, the HTML representation is unable to render, please try loading this page with nbviewer.org.</b></div><div class=\"sk-container\" hidden><div class=\"sk-item sk-dashed-wrapped\"><div class=\"sk-label-container\"><div class=\"sk-label sk-toggleable\"><input class=\"sk-toggleable__control sk-hidden--visually\" id=\"sk-estimator-id-126\" type=\"checkbox\" ><label for=\"sk-estimator-id-126\" class=\"sk-toggleable__label sk-toggleable__label-arrow\">RandomizedSearchCV</label><div class=\"sk-toggleable__content\"><pre>RandomizedSearchCV(cv=PredefinedSplit(test_fold=array([-1, -1, ..., -1, -1])),\n",
       "                   estimator=AdaBoostClassifier(), n_iter=30,\n",
       "                   param_distributions={&#x27;learning_rate&#x27;: learning_rate, Type: UniformFloat, Range: [3.0517578125e-05, 1.0], Default: 0.1,\n",
       "                                        &#x27;n_estimators&#x27;: n_estimators, Type: UniformInteger, Range: [10, 1000], Default: 150},\n",
       "                   scoring=&#x27;accuracy&#x27;, verbose=True)</pre></div></div></div><div class=\"sk-parallel\"><div class=\"sk-parallel-item\"><div class=\"sk-item\"><div class=\"sk-label-container\"><div class=\"sk-label sk-toggleable\"><input class=\"sk-toggleable__control sk-hidden--visually\" id=\"sk-estimator-id-127\" type=\"checkbox\" ><label for=\"sk-estimator-id-127\" class=\"sk-toggleable__label sk-toggleable__label-arrow\">estimator: AdaBoostClassifier</label><div class=\"sk-toggleable__content\"><pre>AdaBoostClassifier()</pre></div></div></div><div class=\"sk-serial\"><div class=\"sk-item\"><div class=\"sk-estimator sk-toggleable\"><input class=\"sk-toggleable__control sk-hidden--visually\" id=\"sk-estimator-id-128\" type=\"checkbox\" ><label for=\"sk-estimator-id-128\" class=\"sk-toggleable__label sk-toggleable__label-arrow\">AdaBoostClassifier</label><div class=\"sk-toggleable__content\"><pre>AdaBoostClassifier()</pre></div></div></div></div></div></div></div></div></div></div>"
      ],
      "text/plain": [
       "RandomizedSearchCV(cv=PredefinedSplit(test_fold=array([-1, -1, ..., -1, -1])),\n",
       "                   estimator=AdaBoostClassifier(), n_iter=30,\n",
       "                   param_distributions={'learning_rate': learning_rate, Type: UniformFloat, Range: [3.0517578125e-05, 1.0], Default: 0.1,\n",
       "                                        'n_estimators': n_estimators, Type: UniformInteger, Range: [10, 1000], Default: 150},\n",
       "                   scoring='accuracy', verbose=True)"
      ]
     },
     "execution_count": 324,
     "metadata": {},
     "output_type": "execute_result"
    }
   ],
   "source": [
    "ada = AdaBoostClassifier()\n",
    "parameters = {'n_estimators':ConfigSpace.UniformIntegerHyperparameter(\n",
    "                name='n_estimators', lower=10, upper=1000, default_value=150),'learning_rate':ConfigSpace.UniformFloatHyperparameter(\n",
    "                name='learning_rate', lower=3.0517578125e-05, upper=1, default_value=0.1)}\n",
    "random_clf_ada = RandomizedSearchCV(ada, parameters, verbose = True, cv = ps, scoring = 'accuracy',n_iter = 30)\n",
    "random_clf_ada.fit(data.data, data.target)"
   ]
  },
  {
   "cell_type": "code",
   "execution_count": 332,
   "id": "129c6389-247f-4328-a021-1b0cce941a8e",
   "metadata": {},
   "outputs": [],
   "source": [
    "# clf_ada = clf\n",
    "# random_clf_ada = random_clf\n",
    "# smbo_ada = smbo"
   ]
  },
  {
   "cell_type": "code",
   "execution_count": 334,
   "id": "3558a45f-7ffe-47b1-b59e-37dad2e307e9",
   "metadata": {},
   "outputs": [
    {
     "data": {
      "text/plain": [
       "0.8390958336119843"
      ]
     },
     "execution_count": 334,
     "metadata": {},
     "output_type": "execute_result"
    }
   ],
   "source": [
    "smbo_ada.theta_inc_performance"
   ]
  },
  {
   "cell_type": "code",
   "execution_count": 335,
   "id": "260c64f9-b2ff-4f15-bc2d-c9b2c666b983",
   "metadata": {},
   "outputs": [
    {
     "name": "stdout",
     "output_type": "stream",
     "text": [
      "GridSearch best valid_score: 0.8298669163378586\n",
      "RandomSearch best valid_score: 0.8369557948237811\n",
      "Beyssian algorithm best valid_score: 0.8390958336119843\n"
     ]
    }
   ],
   "source": [
    "print(f\"GridSearch best valid_score: {np.max(clf_ada.cv_results_['split0_test_score'])}\")\n",
    "print(f\"RandomSearch best valid_score: {np.max(random_clf_ada.cv_results_['split0_test_score'])}\")\n",
    "print(f\"Beyssian algorithm best valid_score: {smbo_ada.theta_inc_performance}\")"
   ]
  },
  {
   "cell_type": "code",
   "execution_count": 342,
   "id": "12daf31b-b86b-43d7-a1ca-bd7b8b1de228",
   "metadata": {},
   "outputs": [
    {
     "name": "stdout",
     "output_type": "stream",
     "text": [
      "Best Params by GridSearch: \n",
      "{'learning_rate': 0.5, 'n_estimators': 1000}\n",
      "Best Params by RadnomSearch: \n",
      "{'learning_rate': 0.8578704666284724, 'n_estimators': 857}\n",
      "Best Params by Beyssian Optimization: \n",
      "[944.          0.9479718]\n"
     ]
    }
   ],
   "source": [
    "print('Best Params by GridSearch: ')\n",
    "print(clf_ada.best_params_)\n",
    "print('Best Params by RadnomSearch: ')\n",
    "print(random_clf_ada.best_params_)\n",
    "print('Best Params by Beyssian Optimization: ')\n",
    "print(smbo_ada.theta_inc)"
   ]
  },
  {
   "cell_type": "markdown",
   "id": "5859c7ca-7947-497a-a092-51801741103a",
   "metadata": {},
   "source": [
    "Prepraing the data for the plot"
   ]
  },
  {
   "cell_type": "code",
   "execution_count": 326,
   "id": "eb699833-22c8-47c7-b41e-3b444ecdca8b",
   "metadata": {},
   "outputs": [],
   "source": [
    "grid_x = clf_ada.cv_results_['param_n_estimators'].data.astype(np.float64)\n",
    "grid_y = clf_ada.cv_results_['param_learning_rate'].data.astype(np.float64)\n",
    "grid_pref = clf_ada.cv_results_['split0_test_score']"
   ]
  },
  {
   "cell_type": "code",
   "execution_count": 327,
   "id": "510b9161-f5bd-4c7d-aba4-7f4d88934d18",
   "metadata": {},
   "outputs": [],
   "source": [
    "ran_x = random_clf_ada.cv_results_['param_n_estimators'].data.astype(np.float64)\n",
    "ran_y = random_clf_ada.cv_results_['param_learning_rate'].data.astype(np.float64)\n",
    "ran_pref = random_clf_ada.cv_results_['split0_test_score']"
   ]
  },
  {
   "cell_type": "code",
   "execution_count": 337,
   "id": "18267a0e-16ff-45ed-9ac5-22385a7153b9",
   "metadata": {},
   "outputs": [],
   "source": [
    "runs =  smbo_ada.capital_r\n",
    "n_param = []\n",
    "performances = []\n",
    "lrs = []\n",
    "for i in runs:\n",
    "    n_param.append(i[0][0])\n",
    "    lrs.append(i[0][1])\n",
    "    performances.append(i[1])\n",
    "# print(n_param)"
   ]
  },
  {
   "cell_type": "code",
   "execution_count": 338,
   "id": "c912855c-055b-4fea-b4fd-25d4759c0067",
   "metadata": {},
   "outputs": [],
   "source": [
    "plot_all_x = np.concatenate((np.concatenate((np.array(n_param), grid_x)),ran_x))\n",
    "plot_all_y = np.concatenate((np.concatenate((np.array(lrs), grid_y)),ran_y))\n",
    "all_perf = np.concatenate((np.concatenate((np.array(performances), grid_pref)),ran_pref))"
   ]
  },
  {
   "cell_type": "code",
   "execution_count": 350,
   "id": "2fd53eca-3860-4eb1-a05a-3ec9b9eed24c",
   "metadata": {},
   "outputs": [
    {
     "data": {
      "text/plain": [
       "Text(0.5, 1.0, 'AdaBoost performance landscape')"
      ]
     },
     "execution_count": 350,
     "metadata": {},
     "output_type": "execute_result"
    },
    {
     "data": {
      "image/png": "[encoded data removed]",
      "text/plain": [
       "<Figure size 640x480 with 2 Axes>"
      ]
     },
     "metadata": {},
     "output_type": "display_data"
    }
   ],
   "source": [
    "fig, ax = plt.subplots()\n",
    "\n",
    "# n_param =  \n",
    "# gamma = df[\"sklearn.svm.classes.SVC(16)_gamma\"]\n",
    "# score = df[\"value\"]S\n",
    "\n",
    "# Plotting all evaluations:\n",
    "ax.plot(n_param, lrs, \"o\", c = 'purple',label='BO')#, ms=1)\n",
    "ax.plot(grid_x, grid_y, \"x\", c = 'black',label  ='GridSearch')#, ms=1)\n",
    "ax.plot(ran_x, ran_y, \"v\", c = 'black',label = 'RandomSearch')#, ms=1)\n",
    "# Create a contour plot\n",
    "cntr = ax.tricontourf(plot_all_x, plot_all_y, all_perf, levels=12, cmap=\"RdBu_r\")\n",
    "# Adjusting the colorbar\n",
    "fig.colorbar(cntr, ax=ax, label=\"accuracy\")\n",
    "# ax.labels()\n",
    "# Adjusting the axis limits\n",
    "ax.set(\n",
    "    xlim=(500, max(plot_all_x)),\n",
    "    ylim=(0.01, max(plot_all_y)),\n",
    "    xlabel=\"N_estimators\",\n",
    "    ylabel=\"learning_rate\",\n",
    ")\n",
    "ax.set_title(\"AdaBoost performance landscape\")"
   ]
  },
  {
   "cell_type": "markdown",
   "id": "5bfcc924-6351-4c58-83a3-6f61bdc73e62",
   "metadata": {},
   "source": [
    "# Second Dataset - qsar-biodeg"
   ]
  },
  {
   "cell_type": "code",
   "execution_count": 413,
   "id": "d800ee9f-3b95-420f-95dd-49a5d9153ef6",
   "metadata": {},
   "outputs": [],
   "source": [
    "data_2 = sklearn.datasets.fetch_openml(name='qsar-biodeg', version=1)\n",
    "X_train, X_valid, y_train, y_valid = sklearn.model_selection.train_test_split(\n",
    "            data_2.data, data_2.target, test_size=0.33, random_state=1)"
   ]
  },
  {
   "cell_type": "code",
   "execution_count": 414,
   "id": "a16c1fcb-e591-47a1-b64f-6bc88f287293",
   "metadata": {},
   "outputs": [],
   "source": [
    "tmp_idx = np.ones(len(X_train)+len(X_valid)-1)*-1\n",
    "tmp_idx[X_valid.index] = 0\n",
    "ps = PredefinedSplit(tmp_idx)"
   ]
  },
  {
   "cell_type": "code",
   "execution_count": 415,
   "id": "f738b9ed-364b-4972-978a-b0a1b0e01cbe",
   "metadata": {
    "scrolled": true
   },
   "outputs": [
    {
     "name": "stdout",
     "output_type": "stream",
     "text": [
      "iteration 0/32\n",
      "current perforance: 0.865330\n",
      "iteration 1/32\n",
      "current perforance: 0.853868\n",
      "iteration 2/32\n",
      "current perforance: 0.676218\n",
      "iteration 3/32\n",
      "current perforance: 0.851003\n",
      "iteration 4/32\n",
      "current perforance: 0.865330\n",
      "iteration 5/32\n",
      "current perforance: 0.865330\n",
      "iteration 6/32\n",
      "current perforance: 0.865330\n",
      "iteration 7/32\n",
      "current perforance: 0.865330\n",
      "iteration 8/32\n",
      "current perforance: 0.865330\n",
      "iteration 9/32\n",
      "current perforance: 0.865330\n",
      "iteration 10/32\n",
      "current perforance: 0.865330\n",
      "iteration 11/32\n",
      "current perforance: 0.865330\n",
      "iteration 12/32\n",
      "current perforance: 0.865330\n",
      "iteration 13/32\n",
      "current perforance: 0.865330\n",
      "iteration 14/32\n",
      "current perforance: 0.865330\n",
      "iteration 15/32\n",
      "current perforance: 0.865330\n",
      "iteration 16/32\n",
      "current perforance: 0.865330\n",
      "iteration 17/32\n",
      "current perforance: 0.865330\n",
      "iteration 18/32\n",
      "current perforance: 0.865330\n",
      "iteration 19/32\n",
      "current perforance: 0.865330\n",
      "iteration 20/32\n",
      "current perforance: 0.865330\n",
      "iteration 21/32\n",
      "current perforance: 0.865330\n",
      "iteration 22/32\n",
      "current perforance: 0.865330\n",
      "iteration 23/32\n",
      "current perforance: 0.865330\n",
      "iteration 24/32\n",
      "current perforance: 0.865330\n",
      "iteration 25/32\n",
      "current perforance: 0.865330\n",
      "iteration 26/32\n",
      "current perforance: 0.865330\n",
      "iteration 27/32\n",
      "current perforance: 0.865330\n",
      "iteration 28/32\n",
      "current perforance: 0.865330\n",
      "iteration 29/32\n",
      "current perforance: 0.865330\n",
      "iteration 30/32\n",
      "current perforance: 0.865330\n",
      "iteration 31/32\n",
      "current perforance: 0.865330\n",
      "CPU times: total: 4.12 s\n",
      "Wall time: 5.02 s\n"
     ]
    }
   ],
   "source": [
    "%%time\n",
    "def optimizee(gamma, C):\n",
    "            clf = sklearn.svm.SVC()\n",
    "            clf.set_params(kernel='rbf', gamma=gamma, C=C)\n",
    "            clf.fit(X_train, y_train)\n",
    "            return sklearn.metrics.accuracy_score(y_valid, clf.predict(X_valid))\n",
    "def sample_configurations(n_configurations):\n",
    "            # function uses the ConfigSpace package, as developed at Freiburg University.\n",
    "            # most of this functionality can also be achieved by the scipy package\n",
    "            # same hyperparameter configuration as in scikit-learn\n",
    "            cs = ConfigSpace.ConfigurationSpace('sklearn.svm.SVC', 1)\n",
    "\n",
    "            C = ConfigSpace.UniformFloatHyperparameter(\n",
    "                name='C', lower=0.000125, upper=1000, log=True, default_value=4.0)\n",
    "    \n",
    "            gamma = ConfigSpace.UniformFloatHyperparameter(\n",
    "                name='gamma', lower=3.0517578125e-04, upper=9, log=True, default_value=0.01)\n",
    "    \n",
    "            cs.add_hyperparameters([C, gamma])\n",
    "\n",
    "            return np.array([(configuration['gamma'],\n",
    "                              configuration['C'])\n",
    "                            for configuration in cs.sample_configuration(n_configurations)])\n",
    "\n",
    "def sample_initial_configurations(n: int) -> typing.List[typing.Tuple[np.array, float]]:\n",
    "            configs = sample_configurations(n)\n",
    "            return [((gamma, C), optimizee(gamma, C)) for gamma, C in configs]\n",
    "\n",
    "smbo_svm = SequentialModelBasedOptimization()\n",
    "smbo_svm.initialize(sample_initial_configurations(15))\n",
    "\n",
    "\n",
    "for idx in range(32):\n",
    "            print('iteration %d/32' % idx)\n",
    "            smbo_svm.fit_model()\n",
    "            theta_new = smbo_svm.select_configuration(sample_configurations(1024))\n",
    "            # plt.scatter()\n",
    "            # print(theta_new)\n",
    "            performance = optimizee(theta_new[0], theta_new[1])\n",
    "            smbo_svm.update_runs((theta_new, performance))\n",
    "            print('current perforance: %f' % performance)\n"
   ]
  },
  {
   "cell_type": "code",
   "execution_count": 416,
   "id": "e773c719-7c74-43bd-84f4-a0bd2123a1cf",
   "metadata": {},
   "outputs": [
    {
     "name": "stdout",
     "output_type": "stream",
     "text": [
      "Fitting 1 folds for each of 56 candidates, totalling 56 fits\n"
     ]
    },
    {
     "data": {
      "text/html": [
       "<style>#sk-container-id-56 {color: black;}#sk-container-id-56 pre{padding: 0;}#sk-container-id-56 div.sk-toggleable {background-color: white;}#sk-container-id-56 label.sk-toggleable__label {cursor: pointer;display: block;width: 100%;margin-bottom: 0;padding: 0.3em;box-sizing: border-box;text-align: center;}#sk-container-id-56 label.sk-toggleable__label-arrow:before {content: \"▸\";float: left;margin-right: 0.25em;color: #696969;}#sk-container-id-56 label.sk-toggleable__label-arrow:hover:before {color: black;}#sk-container-id-56 div.sk-estimator:hover label.sk-toggleable__label-arrow:before {color: black;}#sk-container-id-56 div.sk-toggleable__content {max-height: 0;max-width: 0;overflow: hidden;text-align: left;background-color: #f0f8ff;}#sk-container-id-56 div.sk-toggleable__content pre {margin: 0.2em;color: black;border-radius: 0.25em;background-color: #f0f8ff;}#sk-container-id-56 input.sk-toggleable__control:checked~div.sk-toggleable__content {max-height: 200px;max-width: 100%;overflow: auto;}#sk-container-id-56 input.sk-toggleable__control:checked~label.sk-toggleable__label-arrow:before {content: \"▾\";}#sk-container-id-56 div.sk-estimator input.sk-toggleable__control:checked~label.sk-toggleable__label {background-color: #d4ebff;}#sk-container-id-56 div.sk-label input.sk-toggleable__control:checked~label.sk-toggleable__label {background-color: #d4ebff;}#sk-container-id-56 input.sk-hidden--visually {border: 0;clip: rect(1px 1px 1px 1px);clip: rect(1px, 1px, 1px, 1px);height: 1px;margin: -1px;overflow: hidden;padding: 0;position: absolute;width: 1px;}#sk-container-id-56 div.sk-estimator {font-family: monospace;background-color: #f0f8ff;border: 1px dotted black;border-radius: 0.25em;box-sizing: border-box;margin-bottom: 0.5em;}#sk-container-id-56 div.sk-estimator:hover {background-color: #d4ebff;}#sk-container-id-56 div.sk-parallel-item::after {content: \"\";width: 100%;border-bottom: 1px solid gray;flex-grow: 1;}#sk-container-id-56 div.sk-label:hover label.sk-toggleable__label {background-color: #d4ebff;}#sk-container-id-56 div.sk-serial::before {content: \"\";position: absolute;border-left: 1px solid gray;box-sizing: border-box;top: 0;bottom: 0;left: 50%;z-index: 0;}#sk-container-id-56 div.sk-serial {display: flex;flex-direction: column;align-items: center;background-color: white;padding-right: 0.2em;padding-left: 0.2em;position: relative;}#sk-container-id-56 div.sk-item {position: relative;z-index: 1;}#sk-container-id-56 div.sk-parallel {display: flex;align-items: stretch;justify-content: center;background-color: white;position: relative;}#sk-container-id-56 div.sk-item::before, #sk-container-id-56 div.sk-parallel-item::before {content: \"\";position: absolute;border-left: 1px solid gray;box-sizing: border-box;top: 0;bottom: 0;left: 50%;z-index: -1;}#sk-container-id-56 div.sk-parallel-item {display: flex;flex-direction: column;z-index: 1;position: relative;background-color: white;}#sk-container-id-56 div.sk-parallel-item:first-child::after {align-self: flex-end;width: 50%;}#sk-container-id-56 div.sk-parallel-item:last-child::after {align-self: flex-start;width: 50%;}#sk-container-id-56 div.sk-parallel-item:only-child::after {width: 0;}#sk-container-id-56 div.sk-dashed-wrapped {border: 1px dashed gray;margin: 0 0.4em 0.5em 0.4em;box-sizing: border-box;padding-bottom: 0.4em;background-color: white;}#sk-container-id-56 div.sk-label label {font-family: monospace;font-weight: bold;display: inline-block;line-height: 1.2em;}#sk-container-id-56 div.sk-label-container {text-align: center;}#sk-container-id-56 div.sk-container {/* jupyter's `normalize.less` sets `[hidden] { display: none; }` but bootstrap.min.css set `[hidden] { display: none !important; }` so we also need the `!important` here to be able to override the default hidden behavior on the sphinx rendered scikit-learn.org. See: https://github.com/scikit-learn/scikit-learn/issues/21755 */display: inline-block !important;position: relative;}#sk-container-id-56 div.sk-text-repr-fallback {display: none;}</style><div id=\"sk-container-id-56\" class=\"sk-top-container\"><div class=\"sk-text-repr-fallback\"><pre>GridSearchCV(cv=PredefinedSplit(test_fold=array([-1, -1, ..., -1, -1])),\n",
       "             estimator=SVC(random_state=42),\n",
       "             param_grid={&#x27;C&#x27;: [4, 2, 1, 0.1, 10, 0.5, 20],\n",
       "                         &#x27;gamma&#x27;: [0.1, 0.4, 1, 2, 4, 5, 10, 17]},\n",
       "             scoring=&#x27;accuracy&#x27;, verbose=True)</pre><b>In a Jupyter environment, please rerun this cell to show the HTML representation or trust the notebook. <br />On GitHub, the HTML representation is unable to render, please try loading this page with nbviewer.org.</b></div><div class=\"sk-container\" hidden><div class=\"sk-item sk-dashed-wrapped\"><div class=\"sk-label-container\"><div class=\"sk-label sk-toggleable\"><input class=\"sk-toggleable__control sk-hidden--visually\" id=\"sk-estimator-id-156\" type=\"checkbox\" ><label for=\"sk-estimator-id-156\" class=\"sk-toggleable__label sk-toggleable__label-arrow\">GridSearchCV</label><div class=\"sk-toggleable__content\"><pre>GridSearchCV(cv=PredefinedSplit(test_fold=array([-1, -1, ..., -1, -1])),\n",
       "             estimator=SVC(random_state=42),\n",
       "             param_grid={&#x27;C&#x27;: [4, 2, 1, 0.1, 10, 0.5, 20],\n",
       "                         &#x27;gamma&#x27;: [0.1, 0.4, 1, 2, 4, 5, 10, 17]},\n",
       "             scoring=&#x27;accuracy&#x27;, verbose=True)</pre></div></div></div><div class=\"sk-parallel\"><div class=\"sk-parallel-item\"><div class=\"sk-item\"><div class=\"sk-label-container\"><div class=\"sk-label sk-toggleable\"><input class=\"sk-toggleable__control sk-hidden--visually\" id=\"sk-estimator-id-157\" type=\"checkbox\" ><label for=\"sk-estimator-id-157\" class=\"sk-toggleable__label sk-toggleable__label-arrow\">estimator: SVC</label><div class=\"sk-toggleable__content\"><pre>SVC(random_state=42)</pre></div></div></div><div class=\"sk-serial\"><div class=\"sk-item\"><div class=\"sk-estimator sk-toggleable\"><input class=\"sk-toggleable__control sk-hidden--visually\" id=\"sk-estimator-id-158\" type=\"checkbox\" ><label for=\"sk-estimator-id-158\" class=\"sk-toggleable__label sk-toggleable__label-arrow\">SVC</label><div class=\"sk-toggleable__content\"><pre>SVC(random_state=42)</pre></div></div></div></div></div></div></div></div></div></div>"
      ],
      "text/plain": [
       "GridSearchCV(cv=PredefinedSplit(test_fold=array([-1, -1, ..., -1, -1])),\n",
       "             estimator=SVC(random_state=42),\n",
       "             param_grid={'C': [4, 2, 1, 0.1, 10, 0.5, 20],\n",
       "                         'gamma': [0.1, 0.4, 1, 2, 4, 5, 10, 17]},\n",
       "             scoring='accuracy', verbose=True)"
      ]
     },
     "execution_count": 416,
     "metadata": {},
     "output_type": "execute_result"
    }
   ],
   "source": [
    "svm = sklearn.svm.SVC(random_state = 42)\n",
    "parameters = {'C':[4,2,1,0.1,10,0.5,20],'gamma':[0.1,0.4,1,2,4,5,10,17]}\n",
    "clf = GridSearchCV(svm, parameters, verbose = True, cv = ps, scoring = 'accuracy')\n",
    "clf.fit(data_2.data, data_2.target)"
   ]
  },
  {
   "cell_type": "code",
   "execution_count": 417,
   "id": "47528a3f-b31b-4c1a-9f01-56afabf6f4f7",
   "metadata": {},
   "outputs": [
    {
     "name": "stdout",
     "output_type": "stream",
     "text": [
      "Fitting 1 folds for each of 30 candidates, totalling 30 fits\n"
     ]
    },
    {
     "data": {
      "text/html": [
       "<style>#sk-container-id-57 {color: black;}#sk-container-id-57 pre{padding: 0;}#sk-container-id-57 div.sk-toggleable {background-color: white;}#sk-container-id-57 label.sk-toggleable__label {cursor: pointer;display: block;width: 100%;margin-bottom: 0;padding: 0.3em;box-sizing: border-box;text-align: center;}#sk-container-id-57 label.sk-toggleable__label-arrow:before {content: \"▸\";float: left;margin-right: 0.25em;color: #696969;}#sk-container-id-57 label.sk-toggleable__label-arrow:hover:before {color: black;}#sk-container-id-57 div.sk-estimator:hover label.sk-toggleable__label-arrow:before {color: black;}#sk-container-id-57 div.sk-toggleable__content {max-height: 0;max-width: 0;overflow: hidden;text-align: left;background-color: #f0f8ff;}#sk-container-id-57 div.sk-toggleable__content pre {margin: 0.2em;color: black;border-radius: 0.25em;background-color: #f0f8ff;}#sk-container-id-57 input.sk-toggleable__control:checked~div.sk-toggleable__content {max-height: 200px;max-width: 100%;overflow: auto;}#sk-container-id-57 input.sk-toggleable__control:checked~label.sk-toggleable__label-arrow:before {content: \"▾\";}#sk-container-id-57 div.sk-estimator input.sk-toggleable__control:checked~label.sk-toggleable__label {background-color: #d4ebff;}#sk-container-id-57 div.sk-label input.sk-toggleable__control:checked~label.sk-toggleable__label {background-color: #d4ebff;}#sk-container-id-57 input.sk-hidden--visually {border: 0;clip: rect(1px 1px 1px 1px);clip: rect(1px, 1px, 1px, 1px);height: 1px;margin: -1px;overflow: hidden;padding: 0;position: absolute;width: 1px;}#sk-container-id-57 div.sk-estimator {font-family: monospace;background-color: #f0f8ff;border: 1px dotted black;border-radius: 0.25em;box-sizing: border-box;margin-bottom: 0.5em;}#sk-container-id-57 div.sk-estimator:hover {background-color: #d4ebff;}#sk-container-id-57 div.sk-parallel-item::after {content: \"\";width: 100%;border-bottom: 1px solid gray;flex-grow: 1;}#sk-container-id-57 div.sk-label:hover label.sk-toggleable__label {background-color: #d4ebff;}#sk-container-id-57 div.sk-serial::before {content: \"\";position: absolute;border-left: 1px solid gray;box-sizing: border-box;top: 0;bottom: 0;left: 50%;z-index: 0;}#sk-container-id-57 div.sk-serial {display: flex;flex-direction: column;align-items: center;background-color: white;padding-right: 0.2em;padding-left: 0.2em;position: relative;}#sk-container-id-57 div.sk-item {position: relative;z-index: 1;}#sk-container-id-57 div.sk-parallel {display: flex;align-items: stretch;justify-content: center;background-color: white;position: relative;}#sk-container-id-57 div.sk-item::before, #sk-container-id-57 div.sk-parallel-item::before {content: \"\";position: absolute;border-left: 1px solid gray;box-sizing: border-box;top: 0;bottom: 0;left: 50%;z-index: -1;}#sk-container-id-57 div.sk-parallel-item {display: flex;flex-direction: column;z-index: 1;position: relative;background-color: white;}#sk-container-id-57 div.sk-parallel-item:first-child::after {align-self: flex-end;width: 50%;}#sk-container-id-57 div.sk-parallel-item:last-child::after {align-self: flex-start;width: 50%;}#sk-container-id-57 div.sk-parallel-item:only-child::after {width: 0;}#sk-container-id-57 div.sk-dashed-wrapped {border: 1px dashed gray;margin: 0 0.4em 0.5em 0.4em;box-sizing: border-box;padding-bottom: 0.4em;background-color: white;}#sk-container-id-57 div.sk-label label {font-family: monospace;font-weight: bold;display: inline-block;line-height: 1.2em;}#sk-container-id-57 div.sk-label-container {text-align: center;}#sk-container-id-57 div.sk-container {/* jupyter's `normalize.less` sets `[hidden] { display: none; }` but bootstrap.min.css set `[hidden] { display: none !important; }` so we also need the `!important` here to be able to override the default hidden behavior on the sphinx rendered scikit-learn.org. See: https://github.com/scikit-learn/scikit-learn/issues/21755 */display: inline-block !important;position: relative;}#sk-container-id-57 div.sk-text-repr-fallback {display: none;}</style><div id=\"sk-container-id-57\" class=\"sk-top-container\"><div class=\"sk-text-repr-fallback\"><pre>RandomizedSearchCV(cv=PredefinedSplit(test_fold=array([-1, -1, ..., -1, -1])),\n",
       "                   estimator=SVC(random_state=42), n_iter=30,\n",
       "                   param_distributions={&#x27;C&#x27;: C, Type: UniformFloat, Range: [0.00125, 400.0], Default: 1.0, on log-scale,\n",
       "                                        &#x27;gamma&#x27;: gamma, Type: UniformFloat, Range: [3.0517578125e-05, 6.0], Default: 0.01, on log-scale},\n",
       "                   random_state=42, scoring=&#x27;accuracy&#x27;, verbose=True)</pre><b>In a Jupyter environment, please rerun this cell to show the HTML representation or trust the notebook. <br />On GitHub, the HTML representation is unable to render, please try loading this page with nbviewer.org.</b></div><div class=\"sk-container\" hidden><div class=\"sk-item sk-dashed-wrapped\"><div class=\"sk-label-container\"><div class=\"sk-label sk-toggleable\"><input class=\"sk-toggleable__control sk-hidden--visually\" id=\"sk-estimator-id-159\" type=\"checkbox\" ><label for=\"sk-estimator-id-159\" class=\"sk-toggleable__label sk-toggleable__label-arrow\">RandomizedSearchCV</label><div class=\"sk-toggleable__content\"><pre>RandomizedSearchCV(cv=PredefinedSplit(test_fold=array([-1, -1, ..., -1, -1])),\n",
       "                   estimator=SVC(random_state=42), n_iter=30,\n",
       "                   param_distributions={&#x27;C&#x27;: C, Type: UniformFloat, Range: [0.00125, 400.0], Default: 1.0, on log-scale,\n",
       "                                        &#x27;gamma&#x27;: gamma, Type: UniformFloat, Range: [3.0517578125e-05, 6.0], Default: 0.01, on log-scale},\n",
       "                   random_state=42, scoring=&#x27;accuracy&#x27;, verbose=True)</pre></div></div></div><div class=\"sk-parallel\"><div class=\"sk-parallel-item\"><div class=\"sk-item\"><div class=\"sk-label-container\"><div class=\"sk-label sk-toggleable\"><input class=\"sk-toggleable__control sk-hidden--visually\" id=\"sk-estimator-id-160\" type=\"checkbox\" ><label for=\"sk-estimator-id-160\" class=\"sk-toggleable__label sk-toggleable__label-arrow\">estimator: SVC</label><div class=\"sk-toggleable__content\"><pre>SVC(random_state=42)</pre></div></div></div><div class=\"sk-serial\"><div class=\"sk-item\"><div class=\"sk-estimator sk-toggleable\"><input class=\"sk-toggleable__control sk-hidden--visually\" id=\"sk-estimator-id-161\" type=\"checkbox\" ><label for=\"sk-estimator-id-161\" class=\"sk-toggleable__label sk-toggleable__label-arrow\">SVC</label><div class=\"sk-toggleable__content\"><pre>SVC(random_state=42)</pre></div></div></div></div></div></div></div></div></div></div>"
      ],
      "text/plain": [
       "RandomizedSearchCV(cv=PredefinedSplit(test_fold=array([-1, -1, ..., -1, -1])),\n",
       "                   estimator=SVC(random_state=42), n_iter=30,\n",
       "                   param_distributions={'C': C, Type: UniformFloat, Range: [0.00125, 400.0], Default: 1.0, on log-scale,\n",
       "                                        'gamma': gamma, Type: UniformFloat, Range: [3.0517578125e-05, 6.0], Default: 0.01, on log-scale},\n",
       "                   random_state=42, scoring='accuracy', verbose=True)"
      ]
     },
     "execution_count": 417,
     "metadata": {},
     "output_type": "execute_result"
    }
   ],
   "source": [
    "svm = sklearn.svm.SVC(random_state = 42)\n",
    "parameters = {'C':ConfigSpace.UniformFloatHyperparameter(\n",
    "                name='C', lower=0.00125, upper=400, log=True, default_value=1.0),'gamma':ConfigSpace.UniformFloatHyperparameter(\n",
    "                name='gamma', lower=3.0517578125e-05, upper=6, log=True, default_value=0.01)}\n",
    "random_clf = RandomizedSearchCV(svm, parameters, verbose = True, cv =ps , scoring = 'accuracy',n_iter = 30, random_state = 42)\n",
    "random_clf.fit(data_2.data, data_2.target)"
   ]
  },
  {
   "cell_type": "code",
   "execution_count": 418,
   "id": "28b7623b-2733-4715-ab65-ba72d9a13541",
   "metadata": {},
   "outputs": [
    {
     "name": "stdout",
     "output_type": "stream",
     "text": [
      "GridSearch best valid_score: 0.833810888252149\n",
      "RandomSearch best valid_score: 0.8510028653295129\n",
      "Beyssian algorithm best valid_score: 0.8653295128939829\n"
     ]
    }
   ],
   "source": [
    "print(f\"GridSearch best valid_score: {np.max(clf.cv_results_['split0_test_score'])}\")\n",
    "print(f\"RandomSearch best valid_score: {np.max(random_clf.cv_results_['split0_test_score'])}\")\n",
    "print(f\"Beyssian algorithm best valid_score: {smbo_svm.theta_inc_performance}\")"
   ]
  },
  {
   "cell_type": "code",
   "execution_count": 419,
   "id": "7d58ed46-c1ff-4383-afe6-117832ced79d",
   "metadata": {},
   "outputs": [],
   "source": [
    "grid_x = clf.cv_results_['param_C'].data.astype(np.float64)\n",
    "grid_y = clf.cv_results_['param_gamma'].data.astype(np.float64)\n",
    "grid_pref = clf.cv_results_['split0_test_score']\n",
    "ran_x = random_clf.cv_results_['param_C'].data.astype(np.float64)\n",
    "ran_y = random_clf.cv_results_['param_gamma'].data.astype(np.float64)\n",
    "ran_pref = random_clf.cv_results_['split0_test_score']\n",
    "runs =  smbo_svm.capital_r\n",
    "C = []\n",
    "performances = []\n",
    "gamma = []\n",
    "for i in runs:\n",
    "    C.append(i[0][0])\n",
    "    gamma.append(i[0][1])\n",
    "    performances.append(i[1])\n",
    "# print(n_param)\n",
    "plot_all_x = np.concatenate((np.concatenate((np.array(C), grid_x)),ran_x))\n",
    "plot_all_y = np.concatenate((np.concatenate((np.array(gamma), grid_y)),ran_y))\n",
    "all_perf = np.concatenate((np.concatenate((np.array(performances), grid_pref)),ran_pref))"
   ]
  },
  {
   "cell_type": "code",
   "execution_count": 420,
   "id": "f88f1f9a-9c38-4899-a24f-25ea085014b9",
   "metadata": {},
   "outputs": [
    {
     "data": {
      "text/plain": [
       "Text(0.5, 1.0, 'SVM performance landscape')"
      ]
     },
     "execution_count": 420,
     "metadata": {},
     "output_type": "execute_result"
    },
    {
     "data": {
      "image/png": "[encoded data removed]",
      "text/plain": [
       "<Figure size 640x480 with 2 Axes>"
      ]
     },
     "metadata": {},
     "output_type": "display_data"
    }
   ],
   "source": [
    "fig, ax = plt.subplots()\n",
    "\n",
    "# n_param =  \n",
    "# gamma = df[\"sklearn.svm.classes.SVC(16)_gamma\"]\n",
    "# score = df[\"value\"]S\n",
    "\n",
    "# Plotting all evaluations:\n",
    "ax.plot(C, gamma, \"o\", c = 'purple')#, ms=1)\n",
    "ax.plot(grid_x, grid_y, \"x\", c = 'black')#, ms=1)\n",
    "ax.plot(ran_x, ran_y, \"v\", c = 'black')#, ms=1)\n",
    "# Create a contour plot\n",
    "cntr = ax.tricontourf(plot_all_x, plot_all_y, all_perf, levels=12, cmap=\"RdBu_r\")\n",
    "# Adjusting the colorbar\n",
    "fig.colorbar(cntr, ax=ax, label=\"accuracy\")\n",
    "# Adjusting the axis limits\n",
    "ax.set(\n",
    "    xlim=(min(plot_all_x),10),\n",
    "    ylim=(min(plot_all_y), 20),\n",
    "    xlabel=\"C\",\n",
    "    ylabel=\"gamma\",\n",
    ")\n",
    "ax.set_title(\"SVM performance landscape\")"
   ]
  },
  {
   "cell_type": "code",
   "execution_count": 438,
   "id": "dc08b755-7d14-450f-b7ba-461440f9f2a6",
   "metadata": {},
   "outputs": [
    {
     "name": "stdout",
     "output_type": "stream",
     "text": [
      "iteration 0/30\n",
      "current perforance: 0.856734\n",
      "iteration 1/30\n",
      "current perforance: 0.856734\n",
      "iteration 2/30\n",
      "current perforance: 0.856734\n",
      "iteration 3/30\n",
      "current perforance: 0.856734\n",
      "iteration 4/30\n",
      "current perforance: 0.856734\n",
      "iteration 5/30\n",
      "current perforance: 0.856734\n",
      "iteration 6/30\n",
      "current perforance: 0.856734\n",
      "iteration 7/30\n",
      "current perforance: 0.856734\n",
      "iteration 8/30\n",
      "current perforance: 0.856734\n",
      "iteration 9/30\n",
      "current perforance: 0.856734\n",
      "iteration 10/30\n",
      "current perforance: 0.856734\n",
      "iteration 11/30\n",
      "current perforance: 0.856734\n",
      "iteration 12/30\n",
      "current perforance: 0.856734\n",
      "iteration 13/30\n",
      "current perforance: 0.856734\n",
      "iteration 14/30\n",
      "current perforance: 0.856734\n",
      "iteration 15/30\n",
      "current perforance: 0.856734\n",
      "iteration 16/30\n",
      "current perforance: 0.856734\n",
      "iteration 17/30\n",
      "current perforance: 0.856734\n",
      "iteration 18/30\n",
      "current perforance: 0.856734\n",
      "iteration 19/30\n",
      "current perforance: 0.856734\n",
      "CPU times: total: 1min 3s\n",
      "Wall time: 1min 4s\n"
     ]
    }
   ],
   "source": [
    "%%time\n",
    "def optimizee(n_estimators, learning_rate):\n",
    "            clf = AdaBoostClassifier()\n",
    "            clf.set_params(n_estimators = int(n_estimators), learning_rate = learning_rate)\n",
    "            clf.fit(X_train, y_train)\n",
    "            return sklearn.metrics.accuracy_score(y_valid, clf.predict(X_valid))\n",
    "def sample_configurations(n_configurations):\n",
    "            # function uses the ConfigSpace package, as developed at Freiburg University.\n",
    "            # most of this functionality can also be achieved by the scipy package\n",
    "            # same hyperparameter configuration as in scikit-learn\n",
    "            cs = ConfigSpace.ConfigurationSpace('sklearn.ensemble.AdaBoostClassifier', 1)\n",
    "\n",
    "            n_estimators = ConfigSpace.UniformIntegerHyperparameter(\n",
    "                name='n_estimators', lower=10, upper=1000, default_value=150)\n",
    "    \n",
    "            learning_rate = ConfigSpace.UniformFloatHyperparameter(\n",
    "                name='learning_rate', lower=3.0517578125e-05, upper=1, default_value=0.1)\n",
    "    \n",
    "            cs.add_hyperparameters([learning_rate, n_estimators])\n",
    "\n",
    "            return np.array([(configuration['n_estimators'],\n",
    "                              configuration['learning_rate'])\n",
    "                            for configuration in cs.sample_configuration(n_configurations)])\n",
    "\n",
    "def sample_initial_configurations(n: int) -> typing.List[typing.Tuple[np.array, float]]:\n",
    "            configs = sample_configurations(n)\n",
    "            return [((n_estimators, learning_rate), optimizee(n_estimators, learning_rate)) for n_estimators, learning_rate in configs]\n",
    "\n",
    "smbo_ada = SequentialModelBasedOptimization()\n",
    "smbo_ada.initialize(sample_initial_configurations(15))\n",
    "\n",
    "\n",
    "for idx in range(20):\n",
    "            print('iteration %d/30' % idx)\n",
    "            smbo.fit_model()\n",
    "            theta_new = smbo_ada.select_configuration(sample_configurations(512))\n",
    "            performance = optimizee(theta_new[0], theta_new[1])\n",
    "            smbo_ada.update_runs((theta_new, performance))\n",
    "            print('current perforance: %f' % performance)\n"
   ]
  },
  {
   "cell_type": "code",
   "execution_count": 440,
   "id": "96b830f2-c78c-4aca-a182-683832bda09a",
   "metadata": {},
   "outputs": [
    {
     "name": "stdout",
     "output_type": "stream",
     "text": [
      "Fitting 1 folds for each of 42 candidates, totalling 42 fits\n"
     ]
    },
    {
     "data": {
      "text/html": [
       "<style>#sk-container-id-63 {color: black;}#sk-container-id-63 pre{padding: 0;}#sk-container-id-63 div.sk-toggleable {background-color: white;}#sk-container-id-63 label.sk-toggleable__label {cursor: pointer;display: block;width: 100%;margin-bottom: 0;padding: 0.3em;box-sizing: border-box;text-align: center;}#sk-container-id-63 label.sk-toggleable__label-arrow:before {content: \"▸\";float: left;margin-right: 0.25em;color: #696969;}#sk-container-id-63 label.sk-toggleable__label-arrow:hover:before {color: black;}#sk-container-id-63 div.sk-estimator:hover label.sk-toggleable__label-arrow:before {color: black;}#sk-container-id-63 div.sk-toggleable__content {max-height: 0;max-width: 0;overflow: hidden;text-align: left;background-color: #f0f8ff;}#sk-container-id-63 div.sk-toggleable__content pre {margin: 0.2em;color: black;border-radius: 0.25em;background-color: #f0f8ff;}#sk-container-id-63 input.sk-toggleable__control:checked~div.sk-toggleable__content {max-height: 200px;max-width: 100%;overflow: auto;}#sk-container-id-63 input.sk-toggleable__control:checked~label.sk-toggleable__label-arrow:before {content: \"▾\";}#sk-container-id-63 div.sk-estimator input.sk-toggleable__control:checked~label.sk-toggleable__label {background-color: #d4ebff;}#sk-container-id-63 div.sk-label input.sk-toggleable__control:checked~label.sk-toggleable__label {background-color: #d4ebff;}#sk-container-id-63 input.sk-hidden--visually {border: 0;clip: rect(1px 1px 1px 1px);clip: rect(1px, 1px, 1px, 1px);height: 1px;margin: -1px;overflow: hidden;padding: 0;position: absolute;width: 1px;}#sk-container-id-63 div.sk-estimator {font-family: monospace;background-color: #f0f8ff;border: 1px dotted black;border-radius: 0.25em;box-sizing: border-box;margin-bottom: 0.5em;}#sk-container-id-63 div.sk-estimator:hover {background-color: #d4ebff;}#sk-container-id-63 div.sk-parallel-item::after {content: \"\";width: 100%;border-bottom: 1px solid gray;flex-grow: 1;}#sk-container-id-63 div.sk-label:hover label.sk-toggleable__label {background-color: #d4ebff;}#sk-container-id-63 div.sk-serial::before {content: \"\";position: absolute;border-left: 1px solid gray;box-sizing: border-box;top: 0;bottom: 0;left: 50%;z-index: 0;}#sk-container-id-63 div.sk-serial {display: flex;flex-direction: column;align-items: center;background-color: white;padding-right: 0.2em;padding-left: 0.2em;position: relative;}#sk-container-id-63 div.sk-item {position: relative;z-index: 1;}#sk-container-id-63 div.sk-parallel {display: flex;align-items: stretch;justify-content: center;background-color: white;position: relative;}#sk-container-id-63 div.sk-item::before, #sk-container-id-63 div.sk-parallel-item::before {content: \"\";position: absolute;border-left: 1px solid gray;box-sizing: border-box;top: 0;bottom: 0;left: 50%;z-index: -1;}#sk-container-id-63 div.sk-parallel-item {display: flex;flex-direction: column;z-index: 1;position: relative;background-color: white;}#sk-container-id-63 div.sk-parallel-item:first-child::after {align-self: flex-end;width: 50%;}#sk-container-id-63 div.sk-parallel-item:last-child::after {align-self: flex-start;width: 50%;}#sk-container-id-63 div.sk-parallel-item:only-child::after {width: 0;}#sk-container-id-63 div.sk-dashed-wrapped {border: 1px dashed gray;margin: 0 0.4em 0.5em 0.4em;box-sizing: border-box;padding-bottom: 0.4em;background-color: white;}#sk-container-id-63 div.sk-label label {font-family: monospace;font-weight: bold;display: inline-block;line-height: 1.2em;}#sk-container-id-63 div.sk-label-container {text-align: center;}#sk-container-id-63 div.sk-container {/* jupyter's `normalize.less` sets `[hidden] { display: none; }` but bootstrap.min.css set `[hidden] { display: none !important; }` so we also need the `!important` here to be able to override the default hidden behavior on the sphinx rendered scikit-learn.org. See: https://github.com/scikit-learn/scikit-learn/issues/21755 */display: inline-block !important;position: relative;}#sk-container-id-63 div.sk-text-repr-fallback {display: none;}</style><div id=\"sk-container-id-63\" class=\"sk-top-container\"><div class=\"sk-text-repr-fallback\"><pre>GridSearchCV(cv=PredefinedSplit(test_fold=array([-1, -1, ..., -1, -1])),\n",
       "             estimator=AdaBoostClassifier(),\n",
       "             param_grid={&#x27;learning_rate&#x27;: [0.01, 0.05, 0.001, 0.1, 0.3, 0.5],\n",
       "                         &#x27;n_estimators&#x27;: [100, 200, 400, 500, 600, 800, 1000]},\n",
       "             scoring=&#x27;accuracy&#x27;, verbose=True)</pre><b>In a Jupyter environment, please rerun this cell to show the HTML representation or trust the notebook. <br />On GitHub, the HTML representation is unable to render, please try loading this page with nbviewer.org.</b></div><div class=\"sk-container\" hidden><div class=\"sk-item sk-dashed-wrapped\"><div class=\"sk-label-container\"><div class=\"sk-label sk-toggleable\"><input class=\"sk-toggleable__control sk-hidden--visually\" id=\"sk-estimator-id-177\" type=\"checkbox\" ><label for=\"sk-estimator-id-177\" class=\"sk-toggleable__label sk-toggleable__label-arrow\">GridSearchCV</label><div class=\"sk-toggleable__content\"><pre>GridSearchCV(cv=PredefinedSplit(test_fold=array([-1, -1, ..., -1, -1])),\n",
       "             estimator=AdaBoostClassifier(),\n",
       "             param_grid={&#x27;learning_rate&#x27;: [0.01, 0.05, 0.001, 0.1, 0.3, 0.5],\n",
       "                         &#x27;n_estimators&#x27;: [100, 200, 400, 500, 600, 800, 1000]},\n",
       "             scoring=&#x27;accuracy&#x27;, verbose=True)</pre></div></div></div><div class=\"sk-parallel\"><div class=\"sk-parallel-item\"><div class=\"sk-item\"><div class=\"sk-label-container\"><div class=\"sk-label sk-toggleable\"><input class=\"sk-toggleable__control sk-hidden--visually\" id=\"sk-estimator-id-178\" type=\"checkbox\" ><label for=\"sk-estimator-id-178\" class=\"sk-toggleable__label sk-toggleable__label-arrow\">estimator: AdaBoostClassifier</label><div class=\"sk-toggleable__content\"><pre>AdaBoostClassifier()</pre></div></div></div><div class=\"sk-serial\"><div class=\"sk-item\"><div class=\"sk-estimator sk-toggleable\"><input class=\"sk-toggleable__control sk-hidden--visually\" id=\"sk-estimator-id-179\" type=\"checkbox\" ><label for=\"sk-estimator-id-179\" class=\"sk-toggleable__label sk-toggleable__label-arrow\">AdaBoostClassifier</label><div class=\"sk-toggleable__content\"><pre>AdaBoostClassifier()</pre></div></div></div></div></div></div></div></div></div></div>"
      ],
      "text/plain": [
       "GridSearchCV(cv=PredefinedSplit(test_fold=array([-1, -1, ..., -1, -1])),\n",
       "             estimator=AdaBoostClassifier(),\n",
       "             param_grid={'learning_rate': [0.01, 0.05, 0.001, 0.1, 0.3, 0.5],\n",
       "                         'n_estimators': [100, 200, 400, 500, 600, 800, 1000]},\n",
       "             scoring='accuracy', verbose=True)"
      ]
     },
     "execution_count": 440,
     "metadata": {},
     "output_type": "execute_result"
    }
   ],
   "source": [
    "ada = AdaBoostClassifier()\n",
    "parameters = {'n_estimators':[100,200,400,500,600,800,1000],'learning_rate':[0.01,0.05,0.001,0.1,0.3,0.5]}\n",
    "# cv = [(slice(None), slice(None))]\n",
    "clf_ada = GridSearchCV(ada, parameters, verbose = True, cv = ps, scoring = 'accuracy')\n",
    "clf_ada.fit(data_2.data, data_2.target)\n",
    "# GridSearchCV(estimator=AdaBoostClassifier(),\n",
    "             # param_grid={'n_estimators':[50,100,150,200,250,300,400,500],'learning_rate':[0.001,0.002,0.003,0.005,0.0001,0.0003]})\n",
    "# sorted(clf.cv_results_.keys())"
   ]
  },
  {
   "cell_type": "code",
   "execution_count": 439,
   "id": "d7aba46d-949d-458c-b913-7938eb6f3159",
   "metadata": {},
   "outputs": [
    {
     "name": "stdout",
     "output_type": "stream",
     "text": [
      "Fitting 1 folds for each of 30 candidates, totalling 30 fits\n"
     ]
    },
    {
     "data": {
      "text/html": [
       "<style>#sk-container-id-62 {color: black;}#sk-container-id-62 pre{padding: 0;}#sk-container-id-62 div.sk-toggleable {background-color: white;}#sk-container-id-62 label.sk-toggleable__label {cursor: pointer;display: block;width: 100%;margin-bottom: 0;padding: 0.3em;box-sizing: border-box;text-align: center;}#sk-container-id-62 label.sk-toggleable__label-arrow:before {content: \"▸\";float: left;margin-right: 0.25em;color: #696969;}#sk-container-id-62 label.sk-toggleable__label-arrow:hover:before {color: black;}#sk-container-id-62 div.sk-estimator:hover label.sk-toggleable__label-arrow:before {color: black;}#sk-container-id-62 div.sk-toggleable__content {max-height: 0;max-width: 0;overflow: hidden;text-align: left;background-color: #f0f8ff;}#sk-container-id-62 div.sk-toggleable__content pre {margin: 0.2em;color: black;border-radius: 0.25em;background-color: #f0f8ff;}#sk-container-id-62 input.sk-toggleable__control:checked~div.sk-toggleable__content {max-height: 200px;max-width: 100%;overflow: auto;}#sk-container-id-62 input.sk-toggleable__control:checked~label.sk-toggleable__label-arrow:before {content: \"▾\";}#sk-container-id-62 div.sk-estimator input.sk-toggleable__control:checked~label.sk-toggleable__label {background-color: #d4ebff;}#sk-container-id-62 div.sk-label input.sk-toggleable__control:checked~label.sk-toggleable__label {background-color: #d4ebff;}#sk-container-id-62 input.sk-hidden--visually {border: 0;clip: rect(1px 1px 1px 1px);clip: rect(1px, 1px, 1px, 1px);height: 1px;margin: -1px;overflow: hidden;padding: 0;position: absolute;width: 1px;}#sk-container-id-62 div.sk-estimator {font-family: monospace;background-color: #f0f8ff;border: 1px dotted black;border-radius: 0.25em;box-sizing: border-box;margin-bottom: 0.5em;}#sk-container-id-62 div.sk-estimator:hover {background-color: #d4ebff;}#sk-container-id-62 div.sk-parallel-item::after {content: \"\";width: 100%;border-bottom: 1px solid gray;flex-grow: 1;}#sk-container-id-62 div.sk-label:hover label.sk-toggleable__label {background-color: #d4ebff;}#sk-container-id-62 div.sk-serial::before {content: \"\";position: absolute;border-left: 1px solid gray;box-sizing: border-box;top: 0;bottom: 0;left: 50%;z-index: 0;}#sk-container-id-62 div.sk-serial {display: flex;flex-direction: column;align-items: center;background-color: white;padding-right: 0.2em;padding-left: 0.2em;position: relative;}#sk-container-id-62 div.sk-item {position: relative;z-index: 1;}#sk-container-id-62 div.sk-parallel {display: flex;align-items: stretch;justify-content: center;background-color: white;position: relative;}#sk-container-id-62 div.sk-item::before, #sk-container-id-62 div.sk-parallel-item::before {content: \"\";position: absolute;border-left: 1px solid gray;box-sizing: border-box;top: 0;bottom: 0;left: 50%;z-index: -1;}#sk-container-id-62 div.sk-parallel-item {display: flex;flex-direction: column;z-index: 1;position: relative;background-color: white;}#sk-container-id-62 div.sk-parallel-item:first-child::after {align-self: flex-end;width: 50%;}#sk-container-id-62 div.sk-parallel-item:last-child::after {align-self: flex-start;width: 50%;}#sk-container-id-62 div.sk-parallel-item:only-child::after {width: 0;}#sk-container-id-62 div.sk-dashed-wrapped {border: 1px dashed gray;margin: 0 0.4em 0.5em 0.4em;box-sizing: border-box;padding-bottom: 0.4em;background-color: white;}#sk-container-id-62 div.sk-label label {font-family: monospace;font-weight: bold;display: inline-block;line-height: 1.2em;}#sk-container-id-62 div.sk-label-container {text-align: center;}#sk-container-id-62 div.sk-container {/* jupyter's `normalize.less` sets `[hidden] { display: none; }` but bootstrap.min.css set `[hidden] { display: none !important; }` so we also need the `!important` here to be able to override the default hidden behavior on the sphinx rendered scikit-learn.org. See: https://github.com/scikit-learn/scikit-learn/issues/21755 */display: inline-block !important;position: relative;}#sk-container-id-62 div.sk-text-repr-fallback {display: none;}</style><div id=\"sk-container-id-62\" class=\"sk-top-container\"><div class=\"sk-text-repr-fallback\"><pre>RandomizedSearchCV(cv=PredefinedSplit(test_fold=array([-1, -1, ..., -1, -1])),\n",
       "                   estimator=AdaBoostClassifier(), n_iter=30,\n",
       "                   param_distributions={&#x27;learning_rate&#x27;: learning_rate, Type: UniformFloat, Range: [3.0517578125e-05, 1.0], Default: 0.1,\n",
       "                                        &#x27;n_estimators&#x27;: n_estimators, Type: UniformInteger, Range: [10, 1000], Default: 150},\n",
       "                   scoring=&#x27;accuracy&#x27;, verbose=True)</pre><b>In a Jupyter environment, please rerun this cell to show the HTML representation or trust the notebook. <br />On GitHub, the HTML representation is unable to render, please try loading this page with nbviewer.org.</b></div><div class=\"sk-container\" hidden><div class=\"sk-item sk-dashed-wrapped\"><div class=\"sk-label-container\"><div class=\"sk-label sk-toggleable\"><input class=\"sk-toggleable__control sk-hidden--visually\" id=\"sk-estimator-id-174\" type=\"checkbox\" ><label for=\"sk-estimator-id-174\" class=\"sk-toggleable__label sk-toggleable__label-arrow\">RandomizedSearchCV</label><div class=\"sk-toggleable__content\"><pre>RandomizedSearchCV(cv=PredefinedSplit(test_fold=array([-1, -1, ..., -1, -1])),\n",
       "                   estimator=AdaBoostClassifier(), n_iter=30,\n",
       "                   param_distributions={&#x27;learning_rate&#x27;: learning_rate, Type: UniformFloat, Range: [3.0517578125e-05, 1.0], Default: 0.1,\n",
       "                                        &#x27;n_estimators&#x27;: n_estimators, Type: UniformInteger, Range: [10, 1000], Default: 150},\n",
       "                   scoring=&#x27;accuracy&#x27;, verbose=True)</pre></div></div></div><div class=\"sk-parallel\"><div class=\"sk-parallel-item\"><div class=\"sk-item\"><div class=\"sk-label-container\"><div class=\"sk-label sk-toggleable\"><input class=\"sk-toggleable__control sk-hidden--visually\" id=\"sk-estimator-id-175\" type=\"checkbox\" ><label for=\"sk-estimator-id-175\" class=\"sk-toggleable__label sk-toggleable__label-arrow\">estimator: AdaBoostClassifier</label><div class=\"sk-toggleable__content\"><pre>AdaBoostClassifier()</pre></div></div></div><div class=\"sk-serial\"><div class=\"sk-item\"><div class=\"sk-estimator sk-toggleable\"><input class=\"sk-toggleable__control sk-hidden--visually\" id=\"sk-estimator-id-176\" type=\"checkbox\" ><label for=\"sk-estimator-id-176\" class=\"sk-toggleable__label sk-toggleable__label-arrow\">AdaBoostClassifier</label><div class=\"sk-toggleable__content\"><pre>AdaBoostClassifier()</pre></div></div></div></div></div></div></div></div></div></div>"
      ],
      "text/plain": [
       "RandomizedSearchCV(cv=PredefinedSplit(test_fold=array([-1, -1, ..., -1, -1])),\n",
       "                   estimator=AdaBoostClassifier(), n_iter=30,\n",
       "                   param_distributions={'learning_rate': learning_rate, Type: UniformFloat, Range: [3.0517578125e-05, 1.0], Default: 0.1,\n",
       "                                        'n_estimators': n_estimators, Type: UniformInteger, Range: [10, 1000], Default: 150},\n",
       "                   scoring='accuracy', verbose=True)"
      ]
     },
     "execution_count": 439,
     "metadata": {},
     "output_type": "execute_result"
    }
   ],
   "source": [
    "ada = AdaBoostClassifier()\n",
    "parameters = {'n_estimators':ConfigSpace.UniformIntegerHyperparameter(\n",
    "                name='n_estimators', lower=10, upper=1000, default_value=150),'learning_rate':ConfigSpace.UniformFloatHyperparameter(\n",
    "                name='learning_rate', lower=3.0517578125e-05, upper=1, default_value=0.1)}\n",
    "random_clf_ada = RandomizedSearchCV(ada, parameters, verbose = True, cv = ps, scoring = 'accuracy',n_iter = 30)\n",
    "random_clf_ada.fit(data_2.data, data_2.target)"
   ]
  },
  {
   "cell_type": "code",
   "execution_count": 441,
   "id": "3502388c-36e8-474a-9716-a605bf8036ff",
   "metadata": {},
   "outputs": [
    {
     "name": "stdout",
     "output_type": "stream",
     "text": [
      "GridSearch best valid_score: 0.8710601719197708\n",
      "RandomSearch best valid_score: 0.8595988538681948\n",
      "Beyssian algorithm best valid_score: 0.8567335243553008\n"
     ]
    }
   ],
   "source": [
    "print(f\"GridSearch best valid_score: {np.max(clf_ada.cv_results_['split0_test_score'])}\")\n",
    "print(f\"RandomSearch best valid_score: {np.max(random_clf_ada.cv_results_['split0_test_score'])}\")\n",
    "print(f\"Beyssian algorithm best valid_score: {smbo.theta_inc_performance}\")"
   ]
  },
  {
   "cell_type": "code",
   "execution_count": 442,
   "id": "9bb24082-a65d-464a-be63-1a1d8d8a7adf",
   "metadata": {},
   "outputs": [],
   "source": [
    "grid_x = clf_ada.cv_results_['param_n_estimators'].data.astype(np.float64)\n",
    "grid_y = clf_ada.cv_results_['param_learning_rate'].data.astype(np.float64)\n",
    "grid_pref = clf_ada.cv_results_['split0_test_score']"
   ]
  },
  {
   "cell_type": "code",
   "execution_count": 443,
   "id": "e395e589-fd4f-494d-87b8-5c8c51c34483",
   "metadata": {},
   "outputs": [],
   "source": [
    "grid_x = clf.cv_results_['param_C'].data.astype(np.float64)\n",
    "grid_y = clf.cv_results_['param_gamma'].data.astype(np.float64)\n",
    "grid_pref = clf.cv_results_['split0_test_score']"
   ]
  },
  {
   "cell_type": "code",
   "execution_count": 444,
   "id": "6cc27222-3ca6-4aeb-ba8c-180e1f930c23",
   "metadata": {},
   "outputs": [],
   "source": [
    "runs =  smbo.capital_r\n",
    "C = []\n",
    "performances = []\n",
    "gamma = []\n",
    "for i in runs:\n",
    "    C.append(i[0][0])\n",
    "    gamma.append(i[0][1])\n",
    "    performances.append(i[1])\n",
    "# print(n_param)"
   ]
  },
  {
   "cell_type": "code",
   "execution_count": 447,
   "id": "c6428ae8-5589-487e-8d89-1ba2448f44aa",
   "metadata": {},
   "outputs": [],
   "source": [
    "plot_all_x = np.concatenate((np.concatenate((np.array(n_param), grid_x)),ran_x))\n",
    "plot_all_y = np.concatenate((np.concatenate((np.array(lrs), grid_y)),ran_y))\n",
    "all_perf = np.concatenate((np.concatenate((np.array(performances), grid_pref)),ran_pref))"
   ]
  },
  {
   "cell_type": "code",
   "execution_count": 448,
   "id": "b3ab551d-f385-4e33-8810-57363bf7ef4a",
   "metadata": {},
   "outputs": [
    {
     "data": {
      "text/plain": [
       "Text(0.5, 1.0, 'AdaBoost performance landscape')"
      ]
     },
     "execution_count": 448,
     "metadata": {},
     "output_type": "execute_result"
    },
    {
     "data": {
      "image/png": "[encoded data removed]",
      "text/plain": [
       "<Figure size 640x480 with 2 Axes>"
      ]
     },
     "metadata": {},
     "output_type": "display_data"
    }
   ],
   "source": [
    "fig, ax = plt.subplots()\n",
    "\n",
    "# n_param =  \n",
    "# gamma = df[\"sklearn.svm.classes.SVC(16)_gamma\"]\n",
    "# score = df[\"value\"]S\n",
    "\n",
    "# Plotting all evaluations:\n",
    "ax.plot(n_param, lrs, \"o\", c = 'purple',label='BO')#, ms=1)\n",
    "ax.plot(grid_x, grid_y, \"x\", c = 'black',label  ='GridSearch')#, ms=1)\n",
    "ax.plot(ran_x, ran_y, \"v\", c = 'black',label = 'RandomSearch')#, ms=1)\n",
    "# Create a contour plot\n",
    "cntr = ax.tricontourf(plot_all_x, plot_all_y, all_perf, levels=12, cmap=\"RdBu_r\")\n",
    "# Adjusting the colorbar\n",
    "fig.colorbar(cntr, ax=ax, label=\"accuracy\")\n",
    "# ax.labels()\n",
    "# Adjusting the axis limits\n",
    "ax.set(\n",
    "    xlim=(500, max(plot_all_x)),\n",
    "    ylim=(0.01, max(plot_all_y)),\n",
    "    xlabel=\"N_estimators\",\n",
    "    ylabel=\"learning_rate\",\n",
    ")\n",
    "ax.set_title(\"AdaBoost performance landscape\")"
   ]
  },
  {
   "cell_type": "code",
   "execution_count": null,
   "id": "c8c01066-6f0c-4876-a57f-4887a202f10c",
   "metadata": {},
   "outputs": [],
   "source": []
  },
  {
   "cell_type": "code",
   "execution_count": null,
   "id": "507f1fb6-e0d0-44dc-b198-a0dea1de4217",
   "metadata": {},
   "outputs": [],
   "source": []
  }
 ],
 "metadata": {
  "kernelspec": {
   "display_name": "Python 3 (ipykernel)",
   "language": "python",
   "name": "python3"
  },
  "language_info": {
   "codemirror_mode": {
    "name": "ipython",
    "version": 3
   },
   "file_extension": ".py",
   "mimetype": "text/x-python",
   "name": "python",
   "nbconvert_exporter": "python",
   "pygments_lexer": "ipython3",
   "version": "3.9.13"
  }
 },
 "nbformat": 4,
 "nbformat_minor": 5
}
